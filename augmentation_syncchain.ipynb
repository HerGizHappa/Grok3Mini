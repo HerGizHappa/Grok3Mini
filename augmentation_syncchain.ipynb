{
  "cells": [
    {
      "cell_type": "markdown",
      "metadata": {
        "id": "N9BCNOvT1auc"
      },
      "source": [
        "# Setup & Bibliotheken"
      ]
    },
    {
      "cell_type": "code",
      "execution_count": null,
      "metadata": {
        "collapsed": true,
        "id": "nhCh6T2Crh3u"
      },
      "outputs": [],
      "source": [
        "# Schritt 1: Deinstalliere alle problematischen Pakete\n",
        "!pip uninstall tensorflow tensorflow-text tf-keras tensorflow-decision-forests tensorflow-probability -y\n",
        "\n",
        "# Schritt 2: Installiere kompatible Versionen\n",
        "!pip install tensorflow==2.19.0 tensorflow-probability==0.25.0 tensorflow-text==2.19.0 tf-keras==2.19.0\n",
        "\n",
        "!pip install -q sentence-transformers transformers accelerate torch pandas tqdm\n",
        "\n",
        "# Schritt 3: Unterdrücke Warnungen (für parakeet und CUDA)\n",
        "import os\n",
        "os.environ['TF_CPP_MIN_LOG_LEVEL'] = '2'  # Unterdrückt TensorFlow-Warnungen\n",
        "\n",
        "# Schritt 4: Teste den Import\n",
        "from transformers import AutoTokenizer, AutoModelForSequenceClassification, pipeline\n",
        "print(\"Import erfolgreich!\")\n",
        "\n",
        "# Schritt 5: Teste tensorflow_probability\n",
        "import tensorflow_probability as tfp\n",
        "print(f\"TensorFlow Probability Version: {tfp.__version__}\")\n",
        "!pip install transformers torch pandas tqdm -q"
      ]
    },
    {
      "cell_type": "code",
      "execution_count": 4,
      "metadata": {
        "id": "VhqmpRX0F-WE"
      },
      "outputs": [],
      "source": [
        "\n",
        "import platform #infos aus dem System verarbeiten können (Windows)\n",
        "import os #für Dateihändelung\n",
        "import pandas as pd #für Datenanalyse (Bereinigung von Daten)\n",
        "import random\n",
        "from tqdm import tqdm #um ausgeben zu können, wie weit die Prozesse laufen (für Prozess Balken)\n",
        "import tensorflow_probability as tfp # Wahrscheinlichekti von Ergebnissen analysieren & bewerten\n",
        "import torch # soll dabei helfen, schnellere Berechnungen zu machen (GPU)\n",
        "from transformers import AutoTokenizer, AutoModelForSeq2SeqLM #aus hugging face bibliothek, um Texte in Tokens umzuwandeln, Textsequenzen als Input und andere Textsequenzen ausgeben (Output)\n",
        "#Aufgabe: Übersetzen, Zusammenfassen, Generieren\n",
        "from sentence_transformers import SentenceTransformer, util #sentenceTranformer, damit werden Modelle geladen, die Texte in ganze Vektoren umwandeln\n",
        "#ür Sätze/Texte erzeugen → Ähnlichkeitsvergleiche\n",
        "from google.colab import files, drive #Interaktion mit lokalen Dateien in Google Colab Umgebung\n",
        "from datetime import datetime# Manipulation von Zeitangaben\n",
        "import shutil #Operationen mit Dateien und mit dem Sammeln von Dateien\n",
        "import re #Operationen für reguläre Ausdrücke (regex)\n",
        "\n",
        "#from google.colab import drive\n",
        "\n"
      ]
    },
    {
      "cell_type": "code",
      "execution_count": 5,
      "metadata": {
        "id": "NqgyTXTb2AqA"
      },
      "outputs": [],
      "source": [
        "def smartEncoding():\n",
        "  plt = platform.system\n",
        "  if plt == \"Windows\":\n",
        "    return \"utf-8-sig\"\n",
        "  else:\n",
        "    return \"utf-8\""
      ]
    },
    {
      "cell_type": "markdown",
      "metadata": {
        "id": "U6sxMd7fsqOR"
      },
      "source": [
        "# Gewählte xlsl Datei in csv Datei umwandeln und umbenennen"
      ]
    },
    {
      "cell_type": "code",
      "execution_count": null,
      "metadata": {
        "collapsed": true,
        "id": "VaFrz040hSDp"
      },
      "outputs": [],
      "source": [
        "\n",
        "read_file = pd.DataFrame(pd.read_excel('/content/drive/My Drive/Google_Rezensionen_qualitätsgesichert_2023_12_19 (1).xlsx'))\n",
        "read_file.to_csv(\"Google_Rezensionen_qualitätsgesichert_2023_12_19 (1).csv\", index = False, header = True, encoding=smartEncoding())\n",
        "df = pd.DataFrame(pd.read_csv(\"Google_Rezensionen_qualitätsgesichert_2023_12_19 (1).csv\"))\n",
        "#print(df.head)"
      ]
    },
    {
      "cell_type": "code",
      "execution_count": null,
      "metadata": {
        "collapsed": true,
        "id": "q4FshCWEs1-J"
      },
      "outputs": [],
      "source": [
        "#wähle relevante Spalten\n",
        "gewaehlte_spalten = df[[\"Erfahrungsbericht des Nutzers\" , \"Zufallszahl\"]]\n",
        "\n",
        "#speichere sie in neue csv datei\n",
        "gewaehlte_spalten.to_csv(\"/content/drive/My Drive/erfahrungen_gefiltert.csv\", index = False)\n",
        "\n",
        "\n"
      ]
    },
    {
      "cell_type": "markdown",
      "metadata": {
        "id": "Nfd5RwKdjNQv"
      },
      "source": [
        "# Datenbereinigung"
      ]
    },
    {
      "cell_type": "code",
      "execution_count": null,
      "metadata": {
        "colab": {
          "base_uri": "https://localhost:8080/"
        },
        "collapsed": true,
        "id": "etZLmS_XhRox",
        "outputId": "202314f6-980c-4370-da37-4a14abae9c88"
      },
      "outputs": [
        {
          "name": "stdout",
          "output_type": "stream",
          "text": [
            "FINAL: 6453 Reihen\n",
            "100 Zufallsberichte!\n"
          ]
        }
      ],
      "source": [
        "erfahrungen_gefiltert = pd.read_csv(\"/content/drive/My Drive/erfahrungen_gefiltert.csv\")\n",
        "# dropna() entfernt NaN-Reihen aus anderen Spalten\n",
        "erfahrungen_gefiltert.dropna(subset=['Erfahrungsbericht des Nutzers'], inplace=True)\n",
        "# leere strings entfernen\n",
        "erfahrungen_gefiltert.drop_duplicates(inplace=True)\n",
        "#speichern\n",
        "erfahrungen_gefiltert.to_csv(\"/content/drive/My Drive/erfahrungen_clean.csv\", index=False)# Entfernung von Duplikaten wurde beim df selbst vollzogen anstatt als Kopie\n",
        "print(f\"FINAL: {len(erfahrungen_gefiltert)} Reihen\")\n",
        "\n",
        "\n",
        "#speichere sie in neue csv datei\n",
        "gewaehlte_spalten.to_csv(\"/content/drive/My Drive/erfahrungen_clean.csv\", index = False)\n",
        "\n",
        "\n",
        "#zufällig n = 100 Berichte für erfahrungen_final.csv auswählen\n",
        "erfahrungen_clean = pd.read_csv(\"/content/drive/My Drive/erfahrungen_clean.csv\")\n",
        "# dropna() entfernt NaN-Reihen aus anderen Spalten\n",
        "erfahrungen_clean.dropna(subset=['Erfahrungsbericht des Nutzers'], inplace=True)\n",
        "# leere strings entfernen\n",
        "erfahrungen_clean.drop_duplicates(inplace=True)\n",
        "erfahrungen_clean.to_csv(\"/content/drive/My Drive/erfahrungen_clean.csv\", index = False)\n",
        "\n",
        "# INDEX-Nummern zufällig wählen\n",
        "zufalls_index = random.sample(range(len(erfahrungen_clean)), k=100)\n",
        "zufall_100 = erfahrungen_clean.iloc[zufalls_index]\n",
        "\n",
        "\n",
        "\n",
        "#speichern (NUR 100!)\n",
        "zufall_100.to_csv(\"/content/drive/My Drive/zufall_100_berichte.csv\", index=False)\n",
        "\n",
        "print(f\"{len(zufall_100)} Zufallsberichte!\")"
      ]
    },
    {
      "cell_type": "markdown",
      "metadata": {
        "id": "VPzrsAJjFsW2"
      },
      "source": [
        "# **Datenaugmentation und Syn-Chain-Methode**"
      ]
    },
    {
      "cell_type": "markdown",
      "metadata": {
        "id": "oDX0N5V-IhnY"
      },
      "source": [
        "## Datenaugmentation mit Trainingsdaten (ca. 11.900 Rezensionen)"
      ]
    },
    {
      "cell_type": "markdown",
      "metadata": {
        "id": "8p0Z4ygud_8_"
      },
      "source": [
        "## Paraphrasieren"
      ]
    },
    {
      "cell_type": "code",
      "execution_count": 7,
      "metadata": {
        "colab": {
          "base_uri": "https://localhost:8080/"
        },
        "id": "YkXOEJrCaMv2",
        "outputId": "2d7ed357-1694-4a5c-81a4-8e6505682de6"
      },
      "outputs": [
        {
          "output_type": "stream",
          "name": "stdout",
          "text": [
            "Drive already mounted at /content/drive; to attempt to forcibly remount, call drive.mount(\"/content/drive\", force_remount=True).\n",
            "Ordner & Bibliotheken geladen!\n"
          ]
        }
      ],
      "source": [
        "\n",
        "# Google Drive mounten/ Ordner in Google Colab Umbegung erstellen lassen (einmalige Ausführung nötig)\n",
        "drive.mount('/content/drive')\n",
        "SAVE_PATH = '/content/drive/MyDrive/ABSA_Paraphrase/' #Unterordner \"ABSA_Paraphrase\" in Google Colab Umgebung erstellen\n",
        "os.makedirs(SAVE_PATH, exist_ok=True) #Methode, wobei ein Projektverzeichnis (Pfad für Paraphrase mit inbegriffen) festgelegt wird\n",
        "\n",
        "print(\"Ordner & Bibliotheken geladen!\")"
      ]
    },
    {
      "cell_type": "markdown",
      "source": [
        "Beste Lösung bislang"
      ],
      "metadata": {
        "id": "fttVfq7ddRec"
      }
    },
    {
      "cell_type": "code",
      "source": [
        "def smartEncoding():\n",
        "  plt = platform.system\n",
        "  if plt == \"Windows\":\n",
        "    return \"utf-8-sig\"\n",
        "  else:\n",
        "    return \"utf-8\"\n",
        "\n",
        "# Paraphrasierung\n",
        "\n",
        "# Erstellung eines \"Synonym-Dictionarys\", zuerste mit Schlüsselwert wie z.B. \"schmutzig\" & danach Wertpaaren, Duplikate nicht erlaubt\n",
        "SYNONYMS = {\n",
        "    \"schmutzig\": [\"dreckig\", \"unhygienisch\", \"unrein\" , \"unsauber\", \"verschmutzt\", \"versifft\", \"gammelig\", \"schmuddelig\"],\n",
        "    \"hygienisch\": [\"sauber\", \"rein\", \"keimfrei\", \"gesäubert\", \"picobello\", \"blitzeblank\"],\n",
        "    \"arbeite\": [\"bin tätig\", \"beschäftigt\", \"bin angestellt\"],\n",
        "    \"seit\": [\"seit etwa\", \"schon seit\", \"seit circa\"],\n",
        "    \"im\": [\"in\", \"bei\"],\n",
        "    \"und\": [\"sowie\", \"–\", \"&\"],\n",
        "    \"meine\": [\"meine beiden\"],\n",
        "    \"waren\": [\"lebten\", \"wohnten\"],\n",
        "    \"dort\": [\"dort\", \"im Heim\", \"in der Einrichung\"],\n",
        "    \"ist\": [\"bleibt\"],\n",
        "    \"sehr\": [\"wirklich\", \"besonders\"],\n",
        "    \"kollegial\": [\"freundschaftlich\", \"kameradschaftlich\", \"wie ein guter Kollege\"],\n",
        "    \"betreuung\": [\"Pflege\", \"Fürsorge\", \"Hilfe\", \"Obhut\", \"Unterstützung\"],\n",
        "    \"bewohner\": [\"Senioren\", \"Pflegebedürftige\"],\n",
        "    \"essen\": [ \"Speisen\", \"Nahrung\"],\n",
        "    \"fest\": [\"Feier\", \"Party\" \"Fete\"],\n",
        "    \"beliebt\": [\"geschätzt\", \"begehrt\", \"wird gemocht\"],\n",
        "    \"schlecht\": [\"mies\", \"mieserabel\", \"schrecklich\" \"mangelhaft\", \"unkorrekt\", \"daneben\"],\n",
        "    \"warum\": [\"weshalb\", \"wieso\"],\n",
        "    \"gut\": [\"angenehm\"],\n",
        "    \"top\": [\"super\", \"toll\", \"einwandfrei\", \"hammer\"],\n",
        "    \"sauber\": [\"ordentlich\", \"gepflegt\"],\n",
        "    \"lecker\": [\"köstlich\", \"schmackhaft\", \"gut\"],\n",
        "    \"okay\": [\"in Ordnung\", \"befriedigend\"],\n",
        "    \"traurig\": [\"schade\", \"deprimierend\"]\n",
        "\n",
        "}# kann noch erweitert werden!\n",
        "\n",
        "\n",
        "def synonym_replace(text): #nimmt Text an einer bestimmten Stelle aus Spalte \"Erfahrungsberichts des Nutzers\" aus erfahrungen_clean.csv entgegen\n",
        "    words = text.split() # Variable, in welches einzelne Wörter in text als Tokens in eine Liste gepackt werden [\"wort1\", \"wort2\",...]\n",
        "    new_words = [] #neue liste erstellen\n",
        "    for w in words: #schleife\n",
        "        lower = w.lower().rstrip('.,!?') # buchstaben in kleine Buchstaben schreiben, Satzzeichen vom Ende des Strings entfernen\n",
        "        if lower in SYNONYMS and random.random() < 0.5: #wenn Wort in dict Synonym vorhanden ist\n",
        "        #: nicht jedes einzelne Wort ersetzen; Nur in 50% der Fälle ein Synonym ersetzen\n",
        "            repl = random.choice(SYNONYMS[lower]) #nicht jedes einzelne Wort ersetzen; Nur in 50% der Fälle ein Synonym ersetzen\n",
        "            if w[0].isupper(): repl = repl.capitalize()#wenn der erste Buchstabe von w groß ist (True/False):\n",
        "              #Schreibe den ersten Buchstaben des Synonym auch groß!\n",
        "            new_words.append(repl + w[len(lower):]) #füge in leere Liste das Synonym, mit ersten Buchstaben und restlichen kleingeschriebenen\n",
        "            #print(w[len(lower):])\n",
        "        else: #wenn anfangsbuchstabe nicht groß ist\n",
        "            new_words.append(w) #füge zur Liste das ganze Wort hinzu\n",
        "    return ' '.join(new_words) #Rückgabe der Elemente von Liste & mache diesen zu einem Satz mit Leerzeichen als Seperator\n",
        "\n",
        "#funktion für Parahrase\n",
        "def hybrid_paraphrase(text, n=3):\n",
        "    original = str(text).strip()\n",
        "    if len(original) < 20:\n",
        "        return [original] * n\n",
        "\n",
        "    results = set()\n",
        "    max_attempts = n * 5  # max. 15 Versuche\n",
        "\n",
        "    for _ in range(max_attempts):\n",
        "        if len(results) >= n:#wenn der Satz länger als drei Wörter lang ist, stop diese Schleife!\n",
        "            break\n",
        "\n",
        "        step1 = synonym_replace(original)#nimm Originaltext aus Zeile von \"Erfahrungsbericht des Nutzers\" als Parameter\n",
        "        if len(step1.split()) > 10 and random.random() < 0.3:\n",
        "            sentences = re.split(r'(?<=[.!?])\\s+', step1)\n",
        "           # print(sentences) Beispiel: ['Ein sehr schönes Haus mit altem Charme, ländlich gelegen.', '...]\n",
        "            if len(sentences) > 1:\n",
        "                random.shuffle(sentences)# um die Satzstruktur zu verändern, wenn der Satz lang genug ist\n",
        "                step1 = ' '.join(sentences)# geshuffelte sentences zum ganzen Satz machen\n",
        "        results.add(step1)#ist noch ein set z.B. {'Die Vergabe von einem od 2 Sternen kann....'}\n",
        "\n",
        "    # garantierte Ausgabe,damit Prgramm an dieser schleife nicht hängen bleibt\n",
        "    result_list = list(results)\n",
        "    while len(result_list) < n:\n",
        "        result_list.append(original)\n",
        "\n",
        "    return result_list[:n]\n",
        "\n",
        "# erfahrungen_clean.csv laden, falls noch nicht vorhanden\n",
        "try:\n",
        "    df\n",
        "except NameError:\n",
        "    df = pd.read_csv(\"/content/drive/MyDrive/erfahrungen_clean.csv\") # lieber direkten Pfad aufschreiben\n",
        "    df = df.dropna(subset=['Erfahrungsbericht des Nutzers']).reset_index(drop=True)\n",
        "    print(f\"{len(df)} Rezensionen geladen!\")\n",
        "\n",
        "# Test mit 10 Rezensionen aus erfahrungen_clean.csv\n",
        "test_indices = random.sample(range(len(df)), 10)\n",
        "print(f\"\\n10-TEST: HYBRID \\n\")\n",
        "print(\"=\"*90)\n",
        "\n",
        "for i, idx in enumerate(test_indices, 1):\n",
        "    text = str(df.iloc[idx]['Erfahrungsbericht des Nutzers'])\n",
        "    print(f\"\\n{i}. ORIGINAL (Index {idx}):\")\n",
        "    print(text[:200] + (\"...\" if len(text) > 200 else \"\"))\n",
        "    print(\"\\n   PARAPHRASEN:\")\n",
        "    paras = hybrid_paraphrase(text, 3)\n",
        "    print(\"Wir sind NACH 'paras'\")\n",
        "    for j, p in enumerate(paras, 1):\n",
        "        print(f\"   {j}: {p[:200]}{'...' if len(p) > 200 else ''}\")\n",
        "    print(\"-\" * 90)"
      ],
      "metadata": {
        "colab": {
          "base_uri": "https://localhost:8080/"
        },
        "outputId": "01909742-1576-4867-d369-13356896f8b4",
        "id": "J03xVNBOdTXH",
        "collapsed": true
      },
      "execution_count": 29,
      "outputs": [
        {
          "output_type": "stream",
          "name": "stdout",
          "text": [
            "\n",
            "10-TEST: HYBRID \n",
            "\n",
            "==========================================================================================\n",
            "\n",
            "1. ORIGINAL (Index 5058):\n",
            "Ist ein tolles Pflegeheim finde ich.Das Essen ist immer gut und ständig wechselnd.Ich kann mich nicht erinnern daß,das Mittagessen mal nicht gemundet hat.Man wird ja auch wöchentlich drum gebeten eine...\n",
            "\n",
            "   PARAPHRASEN:\n",
            "Result_list here:11111111111111111111111111111111 ['Bleibt ein tolles Pflegeheim finde ich.Das Nahrung ist immer gut & ständig wechselnd.Ich kann mich nicht erinnern daß,das Mittagessen mal nicht gemundet hat.Man wird ja auch wöchentlich drum gebeten einen Zettel auszufüllen,was genau man Essen mag und was nicht.Öffentliche Verkehrsmittel fahren quasi um die Ecke ab.In 5 Minuten zu Fuß erreichbar. Es wird auch zusammen gespielt.M.ä.d.n., Dart, Krökeln usw.', 'Ist ein tolles Pflegeheim finde ich.Das Essen ist immer gut und ständig wechselnd.Ich kann mich nicht erinnern daß,das Mittagessen mal nicht gemundet hat.Man wird ja auch wöchentlich drum gebeten einen Zettel auszufüllen,was genau man Essen mag und was nicht.Öffentliche Verkehrsmittel fahren quasi um die Ecke ab.In 5 Minuten zu Fuß erreichbar. Es wird auch zusammen gespielt.M.ä.d.n., Dart, Krökeln usw.', 'Es wird auch zusammen gespielt.M.ä.d.n., Dart, Krökeln usw. Ist ein tolles Pflegeheim finde ich.Das Nahrung bleibt immer gut sowie ständig wechselnd.Ich kann mich nicht erinnern daß,das Mittagessen mal nicht gemundet hat.Man wird ja auch wöchentlich drum gebeten einen Zettel auszufüllen,was genau man Essen mag sowie was nicht.Öffentliche Verkehrsmittel fahren quasi um die Ecke ab.In 5 Minuten zu Fuß erreichbar.']\n",
            "Wir sind NACH 'paras'\n",
            "   1: Bleibt ein tolles Pflegeheim finde ich.Das Nahrung ist immer gut & ständig wechselnd.Ich kann mich nicht erinnern daß,das Mittagessen mal nicht gemundet hat.Man wird ja auch wöchentlich drum gebeten e...\n",
            "   2: Ist ein tolles Pflegeheim finde ich.Das Essen ist immer gut und ständig wechselnd.Ich kann mich nicht erinnern daß,das Mittagessen mal nicht gemundet hat.Man wird ja auch wöchentlich drum gebeten eine...\n",
            "   3: Es wird auch zusammen gespielt.M.ä.d.n., Dart, Krökeln usw. Ist ein tolles Pflegeheim finde ich.Das Nahrung bleibt immer gut sowie ständig wechselnd.Ich kann mich nicht erinnern daß,das Mittagessen ma...\n",
            "------------------------------------------------------------------------------------------\n",
            "\n",
            "2. ORIGINAL (Index 5349):\n",
            "Älteres Gebäude aus den 70ziger Jahren,sehr sauber, schöner Garten,direkt am Hermann Lönspark und S Bahn Haltestelle gelegen.Fachkompetente und sehr liebevolle aufmerksame Pflege mit großer Geduld und...\n",
            "\n",
            "   PARAPHRASEN:\n",
            "Result_list here:11111111111111111111111111111111 ['Älteres Gebäude aus den 70ziger Jahren,sehr sauber, schöner Garten,direkt am Hermann Lönspark und S Bahn Haltestelle gelegen.Fachkompetente & sehr liebevolle aufmerksame Pflege mit großer Geduld – Toleranz. Besonders angenehme,unkomplizierte engagierte Zusammenarbeit mit den Angehörigen.Empfehlenswert.', 'Älteres Gebäude aus den 70ziger Jahren,sehr ordentlich, schöner Garten,direkt am Hermann Lönspark sowie S Bahn Haltestelle gelegen.Fachkompetente und wirklich liebevolle aufmerksame Pflege mit großer Geduld – Toleranz. Besonders angenehme,unkomplizierte engagierte Zusammenarbeit mit den Angehörigen.Empfehlenswert.', 'Älteres Gebäude aus den 70ziger Jahren,sehr gepflegt, schöner Garten,direkt am Hermann Lönspark und S Bahn Haltestelle gelegen.Fachkompetente & sehr liebevolle aufmerksame Pflege mit großer Geduld und Toleranz. Wirklich angenehme,unkomplizierte engagierte Zusammenarbeit mit den Angehörigen.Empfehlenswert.']\n",
            "Wir sind NACH 'paras'\n",
            "   1: Älteres Gebäude aus den 70ziger Jahren,sehr sauber, schöner Garten,direkt am Hermann Lönspark und S Bahn Haltestelle gelegen.Fachkompetente & sehr liebevolle aufmerksame Pflege mit großer Geduld – Tol...\n",
            "   2: Älteres Gebäude aus den 70ziger Jahren,sehr ordentlich, schöner Garten,direkt am Hermann Lönspark sowie S Bahn Haltestelle gelegen.Fachkompetente und wirklich liebevolle aufmerksame Pflege mit großer ...\n",
            "   3: Älteres Gebäude aus den 70ziger Jahren,sehr gepflegt, schöner Garten,direkt am Hermann Lönspark und S Bahn Haltestelle gelegen.Fachkompetente & sehr liebevolle aufmerksame Pflege mit großer Geduld und...\n",
            "------------------------------------------------------------------------------------------\n",
            "\n",
            "3. ORIGINAL (Index 4994):\n",
            "Meine Oma wird hier wirklich gut versorgt und das Pflegeteam ist freundlich und immer hilfsbereit.\n",
            "\n",
            "   PARAPHRASEN:\n",
            "Result_list here:11111111111111111111111111111111 ['Meine Oma wird hier wirklich gut versorgt und das Pflegeteam bleibt freundlich – immer hilfsbereit.', 'Meine Oma wird hier wirklich angenehm versorgt & das Pflegeteam bleibt freundlich & immer hilfsbereit.', 'Meine Oma wird hier wirklich angenehm versorgt & das Pflegeteam ist freundlich & immer hilfsbereit.']\n",
            "Wir sind NACH 'paras'\n",
            "   1: Meine Oma wird hier wirklich gut versorgt und das Pflegeteam bleibt freundlich – immer hilfsbereit.\n",
            "   2: Meine Oma wird hier wirklich angenehm versorgt & das Pflegeteam bleibt freundlich & immer hilfsbereit.\n",
            "   3: Meine Oma wird hier wirklich angenehm versorgt & das Pflegeteam ist freundlich & immer hilfsbereit.\n",
            "------------------------------------------------------------------------------------------\n",
            "\n",
            "4. ORIGINAL (Index 1388):\n",
            "Haus 2 wird wegen Personalmangel geschlossen. Info vom Personal. Spricht für sich.Das mit fehlenden oder verschmutzen Gläsern bestätige ich. Auch Personal weit und breit nicht zu finden. Keine gute Be...\n",
            "\n",
            "   PARAPHRASEN:\n",
            "Result_list here:11111111111111111111111111111111 ['Haus 2 wird wegen Personalmangel geschlossen. Info vom Personal. Spricht für sich.Das mit fehlenden oder verschmutzen Gläsern bestätige ich. Auch Personal weit und breit nicht zu finden. Keine gute Betreuung, keinerlei Besuch außer beim Essen bringen. Nix.Und wieso behaupten Sie ich sei eine ehemalige Mitarbeiterin? Das ist nicht wahr und zeigt nur, dass Sie meinen Beitrag nicht gelesen haben und auch auf beschmutzte Gläser nicht reagieren!', 'Haus 2 wird wegen Personalmangel geschlossen. Info vom Personal. Spricht für sich.Das mit fehlenden oder verschmutzen Gläsern bestätige ich. Auch Personal weit sowie breit nicht zu finden. Keine gute Fürsorge, keinerlei Besuch außer beim Nahrung bringen. Nix.Und wieso behaupten Sie ich sei eine ehemalige Mitarbeiterin? Das ist nicht wahr und zeigt nur, dass Sie meinen Beitrag nicht gelesen haben und auch auf beschmutzte Gläser nicht reagieren!', 'Haus 2 wird wegen Personalmangel geschlossen. Info vom Personal. Spricht für sich.Das mit fehlenden oder verschmutzen Gläsern bestätige ich. Auch Personal weit und breit nicht zu finden. Keine gute Hilfe, keinerlei Besuch außer beim Speisen bringen. Nix.Und wieso behaupten Sie ich sei eine ehemalige Mitarbeiterin? Das bleibt nicht wahr und zeigt nur, dass Sie meinen Beitrag nicht gelesen haben sowie auch auf beschmutzte Gläser nicht reagieren!']\n",
            "Wir sind NACH 'paras'\n",
            "   1: Haus 2 wird wegen Personalmangel geschlossen. Info vom Personal. Spricht für sich.Das mit fehlenden oder verschmutzen Gläsern bestätige ich. Auch Personal weit und breit nicht zu finden. Keine gute Be...\n",
            "   2: Haus 2 wird wegen Personalmangel geschlossen. Info vom Personal. Spricht für sich.Das mit fehlenden oder verschmutzen Gläsern bestätige ich. Auch Personal weit sowie breit nicht zu finden. Keine gute ...\n",
            "   3: Haus 2 wird wegen Personalmangel geschlossen. Info vom Personal. Spricht für sich.Das mit fehlenden oder verschmutzen Gläsern bestätige ich. Auch Personal weit und breit nicht zu finden. Keine gute Hi...\n",
            "------------------------------------------------------------------------------------------\n",
            "\n",
            "5. ORIGINAL (Index 3420):\n",
            "Super tolles Team dort... Macht weiter so...\n",
            "\n",
            "   PARAPHRASEN:\n",
            "Result_list here:11111111111111111111111111111111 ['Super tolles Team im Heim... Macht weiter so...', 'Super tolles Team dort... Macht weiter so...', 'Super tolles Team in der Einrichung... Macht weiter so...']\n",
            "Wir sind NACH 'paras'\n",
            "   1: Super tolles Team im Heim... Macht weiter so...\n",
            "   2: Super tolles Team dort... Macht weiter so...\n",
            "   3: Super tolles Team in der Einrichung... Macht weiter so...\n",
            "------------------------------------------------------------------------------------------\n",
            "\n",
            "6. ORIGINAL (Index 2944):\n",
            "Immer gute Atmosphäre\n",
            "\n",
            "   PARAPHRASEN:\n",
            "Result_list here:11111111111111111111111111111111 ['Immer gute Atmosphäre', 'Immer gute Atmosphäre', 'Immer gute Atmosphäre']\n",
            "Wir sind NACH 'paras'\n",
            "   1: Immer gute Atmosphäre\n",
            "   2: Immer gute Atmosphäre\n",
            "   3: Immer gute Atmosphäre\n",
            "------------------------------------------------------------------------------------------\n",
            "\n",
            "7. ORIGINAL (Index 4049):\n",
            "Ich komme seit 5 Jahren zu Besuch einer Bewohnerin. Während der Coronazeit war es schwierig aber möglich. Gleich am Eingang kann man sich die Hände desinfizieren. Das Personal ist trotz Stress und Zei...\n",
            "\n",
            "   PARAPHRASEN:\n",
            "Result_list here:11111111111111111111111111111111 ['Ich komme seit 5 Jahren zu Besuch einer Bewohnerin. Während der Coronazeit war es schwierig aber möglich. Gleich am Eingang kann man sich die Hände desinfizieren. Das Personal bleibt trotz Stress sowie Zeitdruck freundlich – beantwortet meine beiden Fragen ausführlich. Es riecht nicht wie oft in einem Pflegeheim. Die Senioren sind gut untergebracht,es gibt viele verschiedene Möglichkeiten an Freizeitgestaltung, ein Friseur kommt ins Haus.', 'Die Senioren sind gut untergebracht,es gibt viele verschiedene Möglichkeiten an Freizeitgestaltung, ein Friseur kommt ins Haus. Es riecht nicht wie oft in einem Pflegeheim. Ich komme seit etwa 5 Jahren zu Besuch einer Bewohnerin. Gleich am Eingang kann man sich die Hände desinfizieren. Während der Coronazeit war es schwierig aber möglich. Das Personal bleibt trotz Stress sowie Zeitdruck freundlich und beantwortet meine Fragen ausführlich.', 'Ich komme seit etwa 5 Jahren zu Besuch einer Bewohnerin. Während der Coronazeit war es schwierig aber möglich. Gleich am Eingang kann man sich die Hände desinfizieren. Das Personal ist trotz Stress sowie Zeitdruck freundlich – beantwortet meine beiden Fragen ausführlich. Es riecht nicht wie oft in einem Pflegeheim. Die Bewohner sind angenehm untergebracht,es gibt viele verschiedene Möglichkeiten an Freizeitgestaltung, ein Friseur kommt ins Haus.']\n",
            "Wir sind NACH 'paras'\n",
            "   1: Ich komme seit 5 Jahren zu Besuch einer Bewohnerin. Während der Coronazeit war es schwierig aber möglich. Gleich am Eingang kann man sich die Hände desinfizieren. Das Personal bleibt trotz Stress sowi...\n",
            "   2: Die Senioren sind gut untergebracht,es gibt viele verschiedene Möglichkeiten an Freizeitgestaltung, ein Friseur kommt ins Haus. Es riecht nicht wie oft in einem Pflegeheim. Ich komme seit etwa 5 Jahre...\n",
            "   3: Ich komme seit etwa 5 Jahren zu Besuch einer Bewohnerin. Während der Coronazeit war es schwierig aber möglich. Gleich am Eingang kann man sich die Hände desinfizieren. Das Personal ist trotz Stress so...\n",
            "------------------------------------------------------------------------------------------\n",
            "\n",
            "8. ORIGINAL (Index 3087):\n",
            "Ich durfte einige Stunden als Dienstleister in Ihrer Einrichtung verbringen. Der Empfang der anwesenden Mitarbeiter war sehr herzlich, höflich und zuvorkommend.Diese wertschätzende Art und Weise, wird...\n",
            "\n",
            "   PARAPHRASEN:\n",
            "Result_list here:11111111111111111111111111111111 ['Ich durfte einige Stunden als Dienstleister in Ihrer Einrichtung verbringen. Der Empfang der anwesenden Mitarbeiter war sehr herzlich, höflich und zuvorkommend.Diese wertschätzende Art und Weise, wird meines Erachtens auch komplett für die Pflegebedürftige – bei den Mitarbeitern untereinander umgesetzt.Die Inneneinrichtung & Dekorationen, sind warm – schön, es herrschte eine allgemein sehr zufriedene Atmosphäre bei den Einwohnern, die anscheinend besonders genossen haben, sich in dem Aufenthaltsbereich zu entspannen. (zudem wohnten auf allen Tischen süße Leckereien verteilt). ☺️Hygiene wird dort scheinbar wirklich großgeschrieben. Es wird reichlich desinfiziert, Desinfektionsspender stehen überall verteilt im Gebäude, jeder Anwesende, ob Besucher, Mitarbeiter oder Bewohner, jeder kann sich jederzeit an medizinischen sowie Ffp2 Masken (und den Leckereien) 😀 bedienen.Nach Gesprächen mit einigen Mitarbeitern, hörte man schnell heraus, dass auch sie sehr zufrieden sind. Es scheint zwischen dem Arbeitgeber & Arbeitnehmern ein tolles Geben und Nehmen zu herrschen. Ein Lob auch an die Heimleitung, ihr scheint es wichtig zu sein, dass sich jeder (Arbeitnehmer und Bewohner) rundum wohl fühlt. Ich durfte mich einige Zeit mit ihr austauschen und ich ziehe den Hut 🎩 vor dieser super Einstellung. So kann nur ein Mensch sein, der weiß woher er kommt und die Realität der Basis kennt.Die allerbesten Grüße sowie bleibt wie ihr seid,Mike Hartung', 'Ich durfte einige Stunden als Dienstleister in Ihrer Einrichtung verbringen. Der Empfang der anwesenden Mitarbeiter war sehr herzlich, höflich und zuvorkommend.Diese wertschätzende Art sowie Weise, wird meines Erachtens auch komplett für die Bewohner und bei den Mitarbeitern untereinander umgesetzt.Die Inneneinrichtung – Dekorationen, sind warm und schön, es herrschte eine allgemein sehr zufriedene Atmosphäre bei den Einwohnern, die anscheinend besonders genossen haben, sich in dem Aufenthaltsbereich zu entspannen. (zudem wohnten auf allen Tischen süße Leckereien verteilt). ☺️Hygiene wird im Heim scheinbar besonders großgeschrieben. Es wird reichlich desinfiziert, Desinfektionsspender stehen überall verteilt im Gebäude, jeder Anwesende, ob Besucher, Mitarbeiter oder Bewohner, jeder kann sich jederzeit an medizinischen sowie Ffp2 Masken (und den Leckereien) 😀 bedienen.Nach Gesprächen mit einigen Mitarbeitern, hörte man schnell heraus, dass auch sie wirklich zufrieden sind. Es scheint zwischen dem Arbeitgeber & Arbeitnehmern ein tolles Geben und Nehmen zu herrschen. Ein Lob auch an die Heimleitung, ihr scheint es wichtig zu sein, dass sich jeder (Arbeitnehmer und Bewohner) rundum wohl fühlt. Ich durfte mich einige Zeit mit ihr austauschen und ich ziehe den Hut 🎩 vor dieser super Einstellung. So kann nur ein Mensch sein, der weiß woher er kommt sowie die Realität der Basis kennt.Die allerbesten Grüße und bleibt wie ihr seid,Mike Hartung', 'Es wird reichlich desinfiziert, Desinfektionsspender stehen überall verteilt im Gebäude, jeder Anwesende, ob Besucher, Mitarbeiter oder Pflegebedürftige, jeder kann sich jederzeit an medizinischen sowie Ffp2 Masken (und den Leckereien) 😀 bedienen.Nach Gesprächen mit einigen Mitarbeitern, hörte man schnell heraus, dass auch sie besonders zufrieden sind. ☺️Hygiene wird dort scheinbar sehr großgeschrieben. Ich durfte einige Stunden als Dienstleister in Ihrer Einrichtung verbringen. Ein Lob auch an die Heimleitung, ihr scheint es wichtig zu sein, dass sich jeder (Arbeitnehmer und Bewohner) rundum wohl fühlt. Es scheint zwischen dem Arbeitgeber – Arbeitnehmern ein tolles Geben sowie Nehmen zu herrschen. So kann nur ein Mensch sein, der weiß woher er kommt sowie die Realität der Basis kennt.Die allerbesten Grüße – bleibt wie ihr seid,Mike Hartung Der Empfang der anwesenden Mitarbeiter war sehr herzlich, höflich und zuvorkommend.Diese wertschätzende Art & Weise, wird meines Erachtens auch komplett für die Bewohner und bei den Mitarbeitern untereinander umgesetzt.Die Inneneinrichtung und Dekorationen, sind warm und schön, es herrschte eine allgemein wirklich zufriedene Atmosphäre bei den Einwohnern, die anscheinend sehr genossen haben, sich in dem Aufenthaltsbereich zu entspannen. Ich durfte mich einige Zeit mit ihr austauschen und ich ziehe den Hut 🎩 vor dieser super Einstellung. (zudem wohnten auf allen Tischen süße Leckereien verteilt).']\n",
            "Wir sind NACH 'paras'\n",
            "   1: Ich durfte einige Stunden als Dienstleister in Ihrer Einrichtung verbringen. Der Empfang der anwesenden Mitarbeiter war sehr herzlich, höflich und zuvorkommend.Diese wertschätzende Art und Weise, wird...\n",
            "   2: Ich durfte einige Stunden als Dienstleister in Ihrer Einrichtung verbringen. Der Empfang der anwesenden Mitarbeiter war sehr herzlich, höflich und zuvorkommend.Diese wertschätzende Art sowie Weise, wi...\n",
            "   3: Es wird reichlich desinfiziert, Desinfektionsspender stehen überall verteilt im Gebäude, jeder Anwesende, ob Besucher, Mitarbeiter oder Pflegebedürftige, jeder kann sich jederzeit an medizinischen sow...\n",
            "------------------------------------------------------------------------------------------\n",
            "\n",
            "9. ORIGINAL (Index 3317):\n",
            "Liebevolles Term Seher freundlich  und hilfsbereit\n",
            "\n",
            "   PARAPHRASEN:\n",
            "Result_list here:11111111111111111111111111111111 ['Liebevolles Term Seher freundlich – hilfsbereit', 'Liebevolles Term Seher freundlich & hilfsbereit', 'Liebevolles Term Seher freundlich und hilfsbereit']\n",
            "Wir sind NACH 'paras'\n",
            "   1: Liebevolles Term Seher freundlich – hilfsbereit\n",
            "   2: Liebevolles Term Seher freundlich & hilfsbereit\n",
            "   3: Liebevolles Term Seher freundlich und hilfsbereit\n",
            "------------------------------------------------------------------------------------------\n",
            "\n",
            "10. ORIGINAL (Index 1633):\n",
            "Die Mitarbeiter sind alle sehr freundlich zu Besuchern und Bewohner. Essen ist gut. Nachmittags kann man in den Speisesaal gehen und. Kaffeetrinken und dazu ein Stück Torte oder Eis essen. Zimmer sehr...\n",
            "\n",
            "   PARAPHRASEN:\n",
            "Result_list here:11111111111111111111111111111111 ['Die Mitarbeiter sind alle sehr freundlich zu Besuchern sowie Bewohner. Essen ist gut. Nachmittags kann man in den Speisesaal gehen und. Kaffeetrinken und dazu ein Stück Torte oder Eis Nahrung. Zimmer sehr angenehm ausgestattet. auch lädt der Gebietsgarten zum Verweilen ein.zimmer sind alle hell.', 'Kaffeetrinken & dazu ein Stück Torte oder Eis essen. Essen ist angenehm. auch lädt der Gebietsgarten zum Verweilen ein.zimmer sind alle hell. Nachmittags kann man in den Speisesaal gehen &. Die Mitarbeiter sind alle sehr freundlich zu Besuchern – Bewohner. Zimmer wirklich angenehm ausgestattet.', 'Die Mitarbeiter sind alle besonders freundlich zu Besuchern und Bewohner. Speisen bleibt gut. Nachmittags kann man in den Speisesaal gehen –. Kaffeetrinken und dazu ein Stück Torte oder Eis Speisen. Zimmer wirklich angenehm ausgestattet. auch lädt der Gebietsgarten zum Verweilen ein.zimmer sind alle hell.']\n",
            "Wir sind NACH 'paras'\n",
            "   1: Die Mitarbeiter sind alle sehr freundlich zu Besuchern sowie Bewohner. Essen ist gut. Nachmittags kann man in den Speisesaal gehen und. Kaffeetrinken und dazu ein Stück Torte oder Eis Nahrung. Zimmer ...\n",
            "   2: Kaffeetrinken & dazu ein Stück Torte oder Eis essen. Essen ist angenehm. auch lädt der Gebietsgarten zum Verweilen ein.zimmer sind alle hell. Nachmittags kann man in den Speisesaal gehen &. Die Mitarb...\n",
            "   3: Die Mitarbeiter sind alle besonders freundlich zu Besuchern und Bewohner. Speisen bleibt gut. Nachmittags kann man in den Speisesaal gehen –. Kaffeetrinken und dazu ein Stück Torte oder Eis Speisen. Z...\n",
            "------------------------------------------------------------------------------------------\n"
          ]
        }
      ]
    },
    {
      "cell_type": "code",
      "execution_count": null,
      "metadata": {
        "id": "KyC2F4CTW-2d"
      },
      "outputs": [],
      "source": [
        "# finaler Batch: Alle Rezensionen aus \"efahrungen_clean.csv\" augmentieren\n",
        "print(f\"\\nSTART: Paraphrasierung aller {len(df)} Rezensionen -> {len(df)*3} Samples...\")\n",
        "aug_data = []\n",
        "\n",
        "for idx in tqdm(range(len(df)), desc=\"Augmentiere\", unit=\"text\"):\n",
        "    text = df.iloc[idx]['Erfahrungsbericht des Nutzers']\n",
        "    variants = hybrid_paraphrase(text, 3)\n",
        "    for v_id, para in enumerate(variants, 1):\n",
        "        aug_data.append({\n",
        "            'original_index': idx,\n",
        "            'original': text,\n",
        "            'paraphrase': para,\n",
        "            'variant_id': v_id\n",
        "        })\n",
        "\n",
        "# Speichern\n",
        "aug_df = pd.DataFrame(aug_data)\n",
        "output_path = \"/content/drive/MyDrive/ABSA_Paraphrase/augmented_erfahrungen.csv\"\n",
        "aug_df.to_csv(output_path, index=False)\n",
        "\n",
        "print(f\"\\nFERTIG!\")\n",
        "print(f\"→ {len(aug_df)} Paraphrasen gespeichert\")\n",
        "print(f\"→ Datei: {output_path}\")\n",
        "print(f\"→ Robuster Datensatz für Grok 3 Mini bei der ABSA vorbereitet!\")"
      ]
    },
    {
      "cell_type": "markdown",
      "metadata": {
        "id": "vfZm6aOvPbPD"
      },
      "source": [
        "für Fine Tuning:\n",
        "Hugging Face: Fine-tune ein Grok-ähnliches Modell (z. B. \"xai-org/grok-1\" oder \"reedmayhew/Grok-3-gemma3-4B-distilled\" als Distillation von Grok 3). Das ist open-source und GitHub-freundlich.\n",
        "\n",
        "Code-Beispiel (Distillation von Grok 3 via API + Fine-Tuning auf Gemma-3 4B):\n"
      ]
    },
    {
      "cell_type": "markdown",
      "metadata": {
        "id": "V0ywlg4TQWl2"
      },
      "source": [
        "Best Practices (aus Reddit, GitHub Blog, HF Docs):\n",
        "\n",
        "Lizenz: Füge eine LICENSE (z. B. Apache 2.0) hinzu, da Grok-Modelle proprietär sind – dein Fine-Tuning erbt das.\n",
        "Model Card: Erstelle eine (HF-Template: https://huggingface.co/docs/hub/model-cards) mit Details zu Daten (12.000 Rezensionen), Augmentation und Metriken.\n",
        "Datenschutz: Anonymisiere sensible Daten in der CSV (z. B. Namen entfernen), bevor du hochlädst – Pflegeberichte könnten personenbezogen sein (DSGVO-konform!).\n",
        "Versionskontrolle: Nutze GitHub Releases für große Dateien (z. B. Weights als Asset).\n",
        "Integration mit HF: Push zu Hugging Face Hub und verlinke im GitHub-Repo – HF ist GitHub-ähnlich und unterstützt Grok-Destillationen (z. B. \"reedmayhew/Grok-3-gemma3-4B-distilled\").\n",
        "\n",
        "\n",
        "\n",
        "3. Empfehlung für deine Bachelorarbeit\n",
        "\n",
        "Starte mit Option A/B: Prompt Engineering für schnelle Tests, dann Hugging Face für echtes Fine-Tuning (ca. 30–60 Min. in Colab mit GPU).\n",
        "GitHub-Repo als Portfolio: Lade Code, Skripte und Metriken hoch – das zeigt Reproduzierbarkeit. Vermeide rohe Weights (>100 MB) direkt; verlinke sie.\n",
        "Nächste Schritte: Hole dir einen xAI API-Key und HF-Token. Teste den Code in Colab.\n",
        "\n",
        "Falls du Hilfe beim Setup (z. B. API-Key, spezifischer Code-Fehler) brauchst oder mehr Details zu einer Option, lass es mich wissen!"
      ]
    },
    {
      "cell_type": "code",
      "execution_count": null,
      "metadata": {
        "id": "b06VD1uYFlSq"
      },
      "outputs": [],
      "source": [
        "# um damit zu beginnen: https://arxiv.org/html/2507.09485"
      ]
    }
  ],
  "metadata": {
    "colab": {
      "provenance": [],
      "mount_file_id": "1MecGjdw--8eqoUfF53VL3Vja6L0ROuUF",
      "authorship_tag": "ABX9TyO0ozTAHWt16cB0KVOoJ32m"
    },
    "kernelspec": {
      "display_name": "Python 3",
      "name": "python3"
    },
    "language_info": {
      "name": "python"
    }
  },
  "nbformat": 4,
  "nbformat_minor": 0
}