{
  "cells": [
    {
      "cell_type": "markdown",
      "metadata": {
        "id": "view-in-github",
        "colab_type": "text"
      },
      "source": [
        "<a href=\"https://colab.research.google.com/github/HerGizHappa/Grok3Mini/blob/main/augmentation_syncchain.ipynb\" target=\"_parent\"><img src=\"https://colab.research.google.com/assets/colab-badge.svg\" alt=\"Open In Colab\"/></a>"
      ]
    },
    {
      "cell_type": "markdown",
      "metadata": {
        "id": "U6sxMd7fsqOR"
      },
      "source": [
        "# Gewählte xlsl Datei in csv Datei umwandeln und umbenennen"
      ]
    },
    {
      "cell_type": "code",
      "source": [
        "import platform\n",
        "import pandas as pd\n",
        "import random"
      ],
      "metadata": {
        "id": "VhqmpRX0F-WE"
      },
      "execution_count": 19,
      "outputs": []
    },
    {
      "cell_type": "code",
      "source": [
        "def smartEncoding():\n",
        "  plt = platform.system\n",
        "  if plt == \"Windows\":\n",
        "    return \"utf-8-sig\"\n",
        "  else:\n",
        "    return \"utf-8\""
      ],
      "metadata": {
        "id": "NqgyTXTb2AqA"
      },
      "execution_count": 20,
      "outputs": []
    },
    {
      "cell_type": "code",
      "execution_count": 21,
      "metadata": {
        "colab": {
          "base_uri": "https://localhost:8080/"
        },
        "id": "VaFrz040hSDp",
        "outputId": "55212ed7-b40e-43d5-e417-1a6b4d3a86fb"
      },
      "outputs": [
        {
          "output_type": "stream",
          "name": "stdout",
          "text": [
            "<bound method NDFrame.head of                                    Pflegeeinrichtung        Ort  Postleitzahl  \\\n",
            "0                              Haus Botegunhof Achim      Achim         28832   \n",
            "1                              Haus Botegunhof Achim      Achim         28832   \n",
            "2                              Haus Botegunhof Achim      Achim         28832   \n",
            "3                              Haus Botegunhof Achim      Achim         28832   \n",
            "4                              Haus Botegunhof Achim      Achim         28832   \n",
            "...                                              ...        ...           ...   \n",
            "12721           P.U.N.S. \"Am Klieversberg\" stationär  Wolfsburg         38440   \n",
            "12722           P.U.N.S. \"Am Klieversberg\" stationär  Wolfsburg         38440   \n",
            "12723           P.U.N.S. \"Am Klieversberg\" stationär  Wolfsburg         38440   \n",
            "12724  Alten- und Pflegeheim Sonnenhof Fam. Wilckens      Celle         29221   \n",
            "12725  Alten- und Pflegeheim Sonnenhof Fam. Wilckens      Celle         29221   \n",
            "\n",
            "                    Strasse  Telefonnummer Anzahl der Rezensionen  \\\n",
            "0           Schneiderburg 2  04202 5231100         15 Rezensionen   \n",
            "1           Schneiderburg 2  04202 5231100         15 Rezensionen   \n",
            "2           Schneiderburg 2  04202 5231100         15 Rezensionen   \n",
            "3           Schneiderburg 2  04202 5231100         15 Rezensionen   \n",
            "4           Schneiderburg 2  04202 5231100         15 Rezensionen   \n",
            "...                     ...            ...                    ...   \n",
            "12721   Sauerbruchstraße 13   05361 272560         17 Rezensionen   \n",
            "12722   Sauerbruchstraße 13   05361 272560         17 Rezensionen   \n",
            "12723   Sauerbruchstraße 13   05361 272560         17 Rezensionen   \n",
            "12724  Kreuzgarten 59 29223  05141 7096810          2 Rezensionen   \n",
            "12725  Kreuzgarten 59 29223  05141 7096810          2 Rezensionen   \n",
            "\n",
            "      Dursch. Sternbewertung            Nutzername Local Guide  \\\n",
            "0                  4,3 von 5      Brigitte Schulle        Nein   \n",
            "1                  4,3 von 5             Real Zett        Nein   \n",
            "2                  4,3 von 5        Dennis Kastens        Nein   \n",
            "3                  4,3 von 5  Regina Syring-usbeck        Nein   \n",
            "4                  4,3 von 5         Dj Smartfield          Ja   \n",
            "...                      ...                   ...         ...   \n",
            "12721              2,9 von 5         Marcel Uchiha        Nein   \n",
            "12722              2,9 von 5           Mihai Negru        Nein   \n",
            "12723              2,9 von 5           Naemi Iwert          Ja   \n",
            "12724              1,0 von 5          Mario Gercke          Ja   \n",
            "12725              1,0 von 5           linus ebert        Nein   \n",
            "\n",
            "      Anzahl der Rezensionen des Nutzers  ... Bewertung des Nutzers  \\\n",
            "0                            1 Rezension  ...             4,0 von 5   \n",
            "1                            1 Rezension  ...             5,0 von 5   \n",
            "2                            1 Rezension  ...             1,0 von 5   \n",
            "3                            1 Rezension  ...             5,0 von 5   \n",
            "4                                    115  ...             5,0 von 5   \n",
            "...                                  ...  ...                   ...   \n",
            "12721                                  2  ...             1,0 von 5   \n",
            "12722                                  4  ...             5,0 von 5   \n",
            "12723                                 36  ...             3,0 von 5   \n",
            "12724                                  9  ...             1,0 von 5   \n",
            "12725                        1 Rezension  ...             1,0 von 5   \n",
            "\n",
            "      Datum des Erfahrungsbericht Likes des Erfahrungsberichtes  \\\n",
            "0                    vor 3 Jahren                             9   \n",
            "1                    vor 3 Jahren                             1   \n",
            "2                    vor 3 Jahren                             5   \n",
            "3                    vor 3 Jahren                             0   \n",
            "4                    vor 5 Jahren                             1   \n",
            "...                           ...                           ...   \n",
            "12721                vor 3 Jahren                         Keine   \n",
            "12722                vor 3 Jahren                         Keine   \n",
            "12723                vor 4 Jahren                         Keine   \n",
            "12724             vor einem Monat                             1   \n",
            "12725              vor einem Jahr                             3   \n",
            "\n",
            "                       Antwort auf den Erfahrungsbericht  \\\n",
            "0                                                  Keine   \n",
            "1                                                  Keine   \n",
            "2      Guten Tag,vielen Dank für Ihre Bewertung.Wir b...   \n",
            "3                                                  Keine   \n",
            "4                                                  Keine   \n",
            "...                                                  ...   \n",
            "12721                                              Keine   \n",
            "12722                                              Keine   \n",
            "12723                                              Keine   \n",
            "12724                                              Keine   \n",
            "12725                                              Keine   \n",
            "\n",
            "      Antwortgebender Nutzer Datum der Antwort Zufallszahl  \\\n",
            "0               Keine Angabe      Keine Angabe        2463   \n",
            "1               Keine Angabe      Keine Angabe        2511   \n",
            "2        Antwort vom Inhaber      vor 3 Jahren       10419   \n",
            "3               Keine Angabe      Keine Angabe        8718   \n",
            "4               Keine Angabe      Keine Angabe       12483   \n",
            "...                      ...               ...         ...   \n",
            "12721           Keine Angabe      Keine Angabe        8345   \n",
            "12722           Keine Angabe      Keine Angabe        9878   \n",
            "12723           Keine Angabe      Keine Angabe         426   \n",
            "12724           Keine Angabe      Keine Angabe       12583   \n",
            "12725           Keine Angabe      Keine Angabe        7202   \n",
            "\n",
            "      Zufallszahl_Einrichtung  Platzangebot  Größenklassen  \n",
            "0                         889           117     101 - 150   \n",
            "1                         889           117     101 - 150   \n",
            "2                         889           117     101 - 150   \n",
            "3                         889           117     101 - 150   \n",
            "4                         889           117     101 - 150   \n",
            "...                       ...           ...            ...  \n",
            "12721                     311            46       41 - 50   \n",
            "12722                     311            46       41 - 50   \n",
            "12723                     311            46       41 - 50   \n",
            "12724                     389            41       41 - 50   \n",
            "12725                     389            41       41 - 50   \n",
            "\n",
            "[12726 rows x 22 columns]>\n"
          ]
        }
      ],
      "source": [
        "\n",
        "read_file = pd.DataFrame(pd.read_excel('/content/sample_data/Google_Rezensionen_qualitätsgesichert_2023_12_19 (1).xlsx'))\n",
        "read_file.to_csv(\"Google_Rezensionen_qualitätsgesichert_2023_12_19 (1).csv\", index = False, header = True, encoding=smartEncoding())\n",
        "df = pd.DataFrame(pd.read_csv(\"Google_Rezensionen_qualitätsgesichert_2023_12_19 (1).csv\"))\n",
        "print(df.head)"
      ]
    },
    {
      "cell_type": "code",
      "execution_count": 22,
      "metadata": {
        "collapsed": true,
        "id": "q4FshCWEs1-J"
      },
      "outputs": [],
      "source": [
        "#wähle relevante Spalten\n",
        "gewaehlte_spalten = df[[\"Erfahrungsbericht des Nutzers\" , \"Zufallszahl\"]]\n",
        "\n",
        "#speichere sie in neue csv datei\n",
        "gewaehlte_spalten.to_csv(\"/content/sample_data/erfahrungen_gefiltert.csv\", index = False)\n",
        "\n",
        "\n"
      ]
    },
    {
      "cell_type": "markdown",
      "metadata": {
        "id": "Nfd5RwKdjNQv"
      },
      "source": [
        "# Datenbereinigung"
      ]
    },
    {
      "cell_type": "code",
      "execution_count": 23,
      "metadata": {
        "colab": {
          "base_uri": "https://localhost:8080/"
        },
        "collapsed": true,
        "id": "etZLmS_XhRox",
        "outputId": "06caf952-f73f-4e4c-9fc9-b3d6182b00e1"
      },
      "outputs": [
        {
          "output_type": "stream",
          "name": "stdout",
          "text": [
            "FINAL: 6453 Reihen\n",
            "100 Zufallsberichte!\n"
          ]
        }
      ],
      "source": [
        "erfahrungen_gefiltert = pd.read_csv(\"/content/sample_data/erfahrungen_gefiltert.csv\")\n",
        "# dropna() entfernt NaN-Reihen aus anderen Spalten\n",
        "erfahrungen_gefiltert.dropna(subset=['Erfahrungsbericht des Nutzers'], inplace=True)\n",
        "# leere strings entfernen\n",
        "erfahrungen_gefiltert.drop_duplicates(inplace=True)\n",
        "#speichern\n",
        "erfahrungen_gefiltert.to_csv(\"/content/sample_data/erfahrungen_clean.csv\", index=False)\n",
        "print(f\"FINAL: {len(erfahrungen_gefiltert)} Reihen\")\n",
        "\n",
        "\n",
        "#speichere sie in neue csv datei\n",
        "gewaehlte_spalten.to_csv(\"/content/sample_data/erfahrungen_clean.csv\", index = False)\n",
        "\n",
        "\n",
        "#zufällig n = 100 Berichte für erfahrungen_final.csv auswählen\n",
        "erfahrungen_clean = pd.read_csv(\"/content/sample_data/erfahrungen_clean.csv\")\n",
        "# INDEX-Nummern zufällig wählen\n",
        "zufalls_index = random.sample(range(len(erfahrungen_clean)), k=100)\n",
        "zufall_100 = erfahrungen_clean.iloc[zufalls_index]\n",
        "\n",
        "#speichern (NUR 100!)\n",
        "zufall_100.to_csv(\"/content/sample_data/zufall_100_berichte.csv\", index=False)\n",
        "\n",
        "print(f\"{len(zufall_100)} Zufallsberichte!\")\n",
        "\n",
        "\n"
      ]
    },
    {
      "cell_type": "code",
      "source": [],
      "metadata": {
        "id": "_NGlUXhy18Sg"
      },
      "execution_count": 23,
      "outputs": []
    },
    {
      "cell_type": "markdown",
      "metadata": {
        "id": "VPzrsAJjFsW2"
      },
      "source": [
        "# **Datenaugmentation und Syn-Chain-Methode**"
      ]
    },
    {
      "cell_type": "code",
      "execution_count": 24,
      "metadata": {
        "id": "b06VD1uYFlSq"
      },
      "outputs": [],
      "source": [
        "# um damit zu beginnen: https://arxiv.org/html/2507.09485"
      ]
    }
  ],
  "metadata": {
    "accelerator": "GPU",
    "colab": {
      "gpuType": "T4",
      "provenance": [],
      "authorship_tag": "ABX9TyOAUgzZhGIbt9o4Ur4c/TQb",
      "include_colab_link": true
    },
    "kernelspec": {
      "display_name": "Python 3",
      "name": "python3"
    },
    "language_info": {
      "name": "python"
    }
  },
  "nbformat": 4,
  "nbformat_minor": 0
}