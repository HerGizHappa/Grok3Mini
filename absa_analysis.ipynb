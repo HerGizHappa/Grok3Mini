{
  "nbformat": 4,
  "nbformat_minor": 0,
  "metadata": {
    "colab": {
      "provenance": [],
      "gpuType": "T4",
      "authorship_tag": "ABX9TyP0dGmY8WAgQxX+fOxIPllM"
    },
    "kernelspec": {
      "name": "python3",
      "display_name": "Python 3"
    },
    "language_info": {
      "name": "python"
    },
    "accelerator": "GPU"
  },
  "cells": [
    {
      "cell_type": "markdown",
      "source": [
        "#**Aspektbasierte Sentimentanalyse (ABSA)**"
      ],
      "metadata": {
        "id": "76tO553pli9d"
      }
    },
    {
      "cell_type": "markdown",
      "source": [
        "## **Relevante Python Bibliotheken importieren**"
      ],
      "metadata": {
        "id": "w0vpAVA6kiDs"
      }
    },
    {
      "cell_type": "code",
      "source": [
        "!python --version"
      ],
      "metadata": {
        "colab": {
          "base_uri": "https://localhost:8080/"
        },
        "id": "jSgK04KHNolY",
        "outputId": "022926ba-2653-4107-ca42-852b1d48df57"
      },
      "execution_count": 1,
      "outputs": [
        {
          "output_type": "stream",
          "name": "stdout",
          "text": [
            "Python 3.12.12\n"
          ]
        }
      ]
    },
    {
      "cell_type": "markdown",
      "source": [
        "## Import relevanter Biblioheken"
      ],
      "metadata": {
        "id": "cOd3-ZB4k19C"
      }
    },
    {
      "cell_type": "code",
      "source": [
        "# Upgrade pip und setuptools für bessere Kompatibilität\n",
        "!pip install --upgrade pip setuptools wheel\n",
        "\n",
        "# Installiere die neuere transformers-Version (mit Python 3.12-kompatiblen tokenizers)\n",
        "!pip install transformers==4.45.2\n",
        "\n",
        "# Installiere die anderen Pakete (pyabsa, torch, etc.)\n",
        "!pip install pyabsa==2.3.4 torch pandas tqdm spacy nicegui"
      ],
      "metadata": {
        "colab": {
          "base_uri": "https://localhost:8080/"
        },
        "id": "soSUkH_4KtLG",
        "outputId": "fa08dbf7-db95-4cad-83bf-c50d914c42c2",
        "collapsed": true
      },
      "execution_count": 2,
      "outputs": [
        {
          "output_type": "stream",
          "name": "stdout",
          "text": [
            "\u001b[33mWARNING: Ignoring invalid distribution ~ransformers (/usr/local/lib/python3.12/dist-packages)\u001b[0m\u001b[33m\n",
            "\u001b[0m\u001b[33mWARNING: Ignoring invalid distribution ~ransformers (/usr/local/lib/python3.12/dist-packages)\u001b[0m\u001b[33m\n",
            "\u001b[0mRequirement already satisfied: pip in /usr/local/lib/python3.12/dist-packages (25.2)\n",
            "Requirement already satisfied: setuptools in /usr/local/lib/python3.12/dist-packages (80.9.0)\n",
            "Requirement already satisfied: wheel in /usr/local/lib/python3.12/dist-packages (0.45.1)\n",
            "\u001b[33mWARNING: Ignoring invalid distribution ~ransformers (/usr/local/lib/python3.12/dist-packages)\u001b[0m\u001b[33m\n",
            "\u001b[0m\u001b[33mWARNING: Ignoring invalid distribution ~ransformers (/usr/local/lib/python3.12/dist-packages)\u001b[0m\u001b[33m\n",
            "\u001b[0m\u001b[33mWARNING: Ignoring invalid distribution ~ransformers (/usr/local/lib/python3.12/dist-packages)\u001b[0m\u001b[33m\n",
            "\u001b[0m\u001b[33mWARNING: Ignoring invalid distribution ~ransformers (/usr/local/lib/python3.12/dist-packages)\u001b[0m\u001b[33m\n",
            "\u001b[0mRequirement already satisfied: transformers==4.45.2 in /usr/local/lib/python3.12/dist-packages (4.45.2)\n",
            "Requirement already satisfied: filelock in /usr/local/lib/python3.12/dist-packages (from transformers==4.45.2) (3.20.0)\n",
            "Requirement already satisfied: huggingface-hub<1.0,>=0.23.2 in /usr/local/lib/python3.12/dist-packages (from transformers==4.45.2) (0.35.3)\n",
            "Requirement already satisfied: numpy>=1.17 in /usr/local/lib/python3.12/dist-packages (from transformers==4.45.2) (2.0.2)\n",
            "Requirement already satisfied: packaging>=20.0 in /usr/local/lib/python3.12/dist-packages (from transformers==4.45.2) (25.0)\n",
            "Requirement already satisfied: pyyaml>=5.1 in /usr/local/lib/python3.12/dist-packages (from transformers==4.45.2) (6.0.3)\n",
            "Requirement already satisfied: regex!=2019.12.17 in /usr/local/lib/python3.12/dist-packages (from transformers==4.45.2) (2024.11.6)\n",
            "Requirement already satisfied: requests in /usr/local/lib/python3.12/dist-packages (from transformers==4.45.2) (2.32.4)\n",
            "Requirement already satisfied: safetensors>=0.4.1 in /usr/local/lib/python3.12/dist-packages (from transformers==4.45.2) (0.6.2)\n",
            "Requirement already satisfied: tokenizers<0.21,>=0.20 in /usr/local/lib/python3.12/dist-packages (from transformers==4.45.2) (0.20.3)\n",
            "Requirement already satisfied: tqdm>=4.27 in /usr/local/lib/python3.12/dist-packages (from transformers==4.45.2) (4.67.1)\n",
            "Requirement already satisfied: fsspec>=2023.5.0 in /usr/local/lib/python3.12/dist-packages (from huggingface-hub<1.0,>=0.23.2->transformers==4.45.2) (2025.3.0)\n",
            "Requirement already satisfied: typing-extensions>=3.7.4.3 in /usr/local/lib/python3.12/dist-packages (from huggingface-hub<1.0,>=0.23.2->transformers==4.45.2) (4.15.0)\n",
            "Requirement already satisfied: hf-xet<2.0.0,>=1.1.3 in /usr/local/lib/python3.12/dist-packages (from huggingface-hub<1.0,>=0.23.2->transformers==4.45.2) (1.1.10)\n",
            "Requirement already satisfied: charset_normalizer<4,>=2 in /usr/local/lib/python3.12/dist-packages (from requests->transformers==4.45.2) (3.4.4)\n",
            "Requirement already satisfied: idna<4,>=2.5 in /usr/local/lib/python3.12/dist-packages (from requests->transformers==4.45.2) (3.11)\n",
            "Requirement already satisfied: urllib3<3,>=1.21.1 in /usr/local/lib/python3.12/dist-packages (from requests->transformers==4.45.2) (2.5.0)\n",
            "Requirement already satisfied: certifi>=2017.4.17 in /usr/local/lib/python3.12/dist-packages (from requests->transformers==4.45.2) (2025.10.5)\n",
            "\u001b[33mWARNING: Ignoring invalid distribution ~ransformers (/usr/local/lib/python3.12/dist-packages)\u001b[0m\u001b[33m\n",
            "\u001b[0m\u001b[33mWARNING: Ignoring invalid distribution ~ransformers (/usr/local/lib/python3.12/dist-packages)\u001b[0m\u001b[33m\n",
            "\u001b[0m\u001b[33mWARNING: Ignoring invalid distribution ~ransformers (/usr/local/lib/python3.12/dist-packages)\u001b[0m\u001b[33m\n",
            "\u001b[0m\u001b[33mWARNING: Ignoring invalid distribution ~ransformers (/usr/local/lib/python3.12/dist-packages)\u001b[0m\u001b[33m\n",
            "\u001b[0mRequirement already satisfied: pyabsa==2.3.4 in /usr/local/lib/python3.12/dist-packages (2.3.4)\n",
            "Requirement already satisfied: torch in /usr/local/lib/python3.12/dist-packages (2.8.0+cu126)\n",
            "Requirement already satisfied: pandas in /usr/local/lib/python3.12/dist-packages (2.2.2)\n",
            "Requirement already satisfied: tqdm in /usr/local/lib/python3.12/dist-packages (4.67.1)\n",
            "Requirement already satisfied: spacy in /usr/local/lib/python3.12/dist-packages (3.8.7)\n",
            "Requirement already satisfied: nicegui in /usr/local/lib/python3.12/dist-packages (3.0.4)\n",
            "Requirement already satisfied: findfile>=2.0.0 in /usr/local/lib/python3.12/dist-packages (from pyabsa==2.3.4) (2.1.1)\n",
            "Requirement already satisfied: autocuda>=0.16 in /usr/local/lib/python3.12/dist-packages (from pyabsa==2.3.4) (0.16)\n",
            "Requirement already satisfied: metric-visualizer>=0.9.6 in /usr/local/lib/python3.12/dist-packages (from pyabsa==2.3.4) (0.9.17)\n",
            "Requirement already satisfied: boostaug>=2.3.5 in /usr/local/lib/python3.12/dist-packages (from pyabsa==2.3.4) (2.3.5)\n",
            "Requirement already satisfied: networkx in /usr/local/lib/python3.12/dist-packages (from pyabsa==2.3.4) (3.5)\n",
            "Requirement already satisfied: seqeval in /usr/local/lib/python3.12/dist-packages (from pyabsa==2.3.4) (1.2.2)\n",
            "Requirement already satisfied: update-checker in /usr/local/lib/python3.12/dist-packages (from pyabsa==2.3.4) (0.18.0)\n",
            "Requirement already satisfied: typing-extensions in /usr/local/lib/python3.12/dist-packages (from pyabsa==2.3.4) (4.15.0)\n",
            "Requirement already satisfied: pytorch-warmup in /usr/local/lib/python3.12/dist-packages (from pyabsa==2.3.4) (0.2.0)\n",
            "Requirement already satisfied: termcolor in /usr/local/lib/python3.12/dist-packages (from pyabsa==2.3.4) (3.1.0)\n",
            "Requirement already satisfied: gitpython in /usr/local/lib/python3.12/dist-packages (from pyabsa==2.3.4) (3.1.45)\n",
            "Requirement already satisfied: transformers>=4.29.0 in /usr/local/lib/python3.12/dist-packages (from pyabsa==2.3.4) (4.45.2)\n",
            "Requirement already satisfied: sentencepiece in /usr/local/lib/python3.12/dist-packages (from pyabsa==2.3.4) (0.2.1)\n",
            "Requirement already satisfied: protobuf<4.0.0 in /usr/local/lib/python3.12/dist-packages (from pyabsa==2.3.4) (3.20.3)\n",
            "Requirement already satisfied: filelock in /usr/local/lib/python3.12/dist-packages (from torch) (3.20.0)\n",
            "Requirement already satisfied: setuptools in /usr/local/lib/python3.12/dist-packages (from torch) (80.9.0)\n",
            "Requirement already satisfied: sympy>=1.13.3 in /usr/local/lib/python3.12/dist-packages (from torch) (1.13.3)\n",
            "Requirement already satisfied: jinja2 in /usr/local/lib/python3.12/dist-packages (from torch) (3.1.6)\n",
            "Requirement already satisfied: fsspec in /usr/local/lib/python3.12/dist-packages (from torch) (2025.3.0)\n",
            "Requirement already satisfied: nvidia-cuda-nvrtc-cu12==12.6.77 in /usr/local/lib/python3.12/dist-packages (from torch) (12.6.77)\n",
            "Requirement already satisfied: nvidia-cuda-runtime-cu12==12.6.77 in /usr/local/lib/python3.12/dist-packages (from torch) (12.6.77)\n",
            "Requirement already satisfied: nvidia-cuda-cupti-cu12==12.6.80 in /usr/local/lib/python3.12/dist-packages (from torch) (12.6.80)\n",
            "Requirement already satisfied: nvidia-cudnn-cu12==9.10.2.21 in /usr/local/lib/python3.12/dist-packages (from torch) (9.10.2.21)\n",
            "Requirement already satisfied: nvidia-cublas-cu12==12.6.4.1 in /usr/local/lib/python3.12/dist-packages (from torch) (12.6.4.1)\n",
            "Requirement already satisfied: nvidia-cufft-cu12==11.3.0.4 in /usr/local/lib/python3.12/dist-packages (from torch) (11.3.0.4)\n",
            "Requirement already satisfied: nvidia-curand-cu12==10.3.7.77 in /usr/local/lib/python3.12/dist-packages (from torch) (10.3.7.77)\n",
            "Requirement already satisfied: nvidia-cusolver-cu12==11.7.1.2 in /usr/local/lib/python3.12/dist-packages (from torch) (11.7.1.2)\n",
            "Requirement already satisfied: nvidia-cusparse-cu12==12.5.4.2 in /usr/local/lib/python3.12/dist-packages (from torch) (12.5.4.2)\n",
            "Requirement already satisfied: nvidia-cusparselt-cu12==0.7.1 in /usr/local/lib/python3.12/dist-packages (from torch) (0.7.1)\n",
            "Requirement already satisfied: nvidia-nccl-cu12==2.27.3 in /usr/local/lib/python3.12/dist-packages (from torch) (2.27.3)\n",
            "Requirement already satisfied: nvidia-nvtx-cu12==12.6.77 in /usr/local/lib/python3.12/dist-packages (from torch) (12.6.77)\n",
            "Requirement already satisfied: nvidia-nvjitlink-cu12==12.6.85 in /usr/local/lib/python3.12/dist-packages (from torch) (12.6.85)\n",
            "Requirement already satisfied: nvidia-cufile-cu12==1.11.1.6 in /usr/local/lib/python3.12/dist-packages (from torch) (1.11.1.6)\n",
            "Requirement already satisfied: triton==3.4.0 in /usr/local/lib/python3.12/dist-packages (from torch) (3.4.0)\n",
            "Requirement already satisfied: numpy>=1.26.0 in /usr/local/lib/python3.12/dist-packages (from pandas) (2.0.2)\n",
            "Requirement already satisfied: python-dateutil>=2.8.2 in /usr/local/lib/python3.12/dist-packages (from pandas) (2.9.0.post0)\n",
            "Requirement already satisfied: pytz>=2020.1 in /usr/local/lib/python3.12/dist-packages (from pandas) (2025.2)\n",
            "Requirement already satisfied: tzdata>=2022.7 in /usr/local/lib/python3.12/dist-packages (from pandas) (2025.2)\n",
            "Requirement already satisfied: spacy-legacy<3.1.0,>=3.0.11 in /usr/local/lib/python3.12/dist-packages (from spacy) (3.0.12)\n",
            "Requirement already satisfied: spacy-loggers<2.0.0,>=1.0.0 in /usr/local/lib/python3.12/dist-packages (from spacy) (1.0.5)\n",
            "Requirement already satisfied: murmurhash<1.1.0,>=0.28.0 in /usr/local/lib/python3.12/dist-packages (from spacy) (1.0.13)\n",
            "Requirement already satisfied: cymem<2.1.0,>=2.0.2 in /usr/local/lib/python3.12/dist-packages (from spacy) (2.0.11)\n",
            "Requirement already satisfied: preshed<3.1.0,>=3.0.2 in /usr/local/lib/python3.12/dist-packages (from spacy) (3.0.10)\n",
            "Requirement already satisfied: thinc<8.4.0,>=8.3.4 in /usr/local/lib/python3.12/dist-packages (from spacy) (8.3.6)\n",
            "Requirement already satisfied: wasabi<1.2.0,>=0.9.1 in /usr/local/lib/python3.12/dist-packages (from spacy) (1.1.3)\n",
            "Requirement already satisfied: srsly<3.0.0,>=2.4.3 in /usr/local/lib/python3.12/dist-packages (from spacy) (2.5.1)\n",
            "Requirement already satisfied: catalogue<2.1.0,>=2.0.6 in /usr/local/lib/python3.12/dist-packages (from spacy) (2.0.10)\n",
            "Requirement already satisfied: weasel<0.5.0,>=0.1.0 in /usr/local/lib/python3.12/dist-packages (from spacy) (0.4.1)\n",
            "Requirement already satisfied: typer<1.0.0,>=0.3.0 in /usr/local/lib/python3.12/dist-packages (from spacy) (0.19.2)\n",
            "Requirement already satisfied: requests<3.0.0,>=2.13.0 in /usr/local/lib/python3.12/dist-packages (from spacy) (2.32.4)\n",
            "Requirement already satisfied: pydantic!=1.8,!=1.8.1,<3.0.0,>=1.7.4 in /usr/local/lib/python3.12/dist-packages (from spacy) (2.11.10)\n",
            "Requirement already satisfied: packaging>=20.0 in /usr/local/lib/python3.12/dist-packages (from spacy) (25.0)\n",
            "Requirement already satisfied: langcodes<4.0.0,>=3.2.0 in /usr/local/lib/python3.12/dist-packages (from spacy) (3.5.0)\n",
            "Requirement already satisfied: language-data>=1.2 in /usr/local/lib/python3.12/dist-packages (from langcodes<4.0.0,>=3.2.0->spacy) (1.3.0)\n",
            "Requirement already satisfied: annotated-types>=0.6.0 in /usr/local/lib/python3.12/dist-packages (from pydantic!=1.8,!=1.8.1,<3.0.0,>=1.7.4->spacy) (0.7.0)\n",
            "Requirement already satisfied: pydantic-core==2.33.2 in /usr/local/lib/python3.12/dist-packages (from pydantic!=1.8,!=1.8.1,<3.0.0,>=1.7.4->spacy) (2.33.2)\n",
            "Requirement already satisfied: typing-inspection>=0.4.0 in /usr/local/lib/python3.12/dist-packages (from pydantic!=1.8,!=1.8.1,<3.0.0,>=1.7.4->spacy) (0.4.2)\n",
            "Requirement already satisfied: charset_normalizer<4,>=2 in /usr/local/lib/python3.12/dist-packages (from requests<3.0.0,>=2.13.0->spacy) (3.4.4)\n",
            "Requirement already satisfied: idna<4,>=2.5 in /usr/local/lib/python3.12/dist-packages (from requests<3.0.0,>=2.13.0->spacy) (3.11)\n",
            "Requirement already satisfied: urllib3<3,>=1.21.1 in /usr/local/lib/python3.12/dist-packages (from requests<3.0.0,>=2.13.0->spacy) (2.5.0)\n",
            "Requirement already satisfied: certifi>=2017.4.17 in /usr/local/lib/python3.12/dist-packages (from requests<3.0.0,>=2.13.0->spacy) (2025.10.5)\n",
            "Requirement already satisfied: blis<1.4.0,>=1.3.0 in /usr/local/lib/python3.12/dist-packages (from thinc<8.4.0,>=8.3.4->spacy) (1.3.0)\n",
            "Requirement already satisfied: confection<1.0.0,>=0.0.1 in /usr/local/lib/python3.12/dist-packages (from thinc<8.4.0,>=8.3.4->spacy) (0.1.5)\n",
            "Requirement already satisfied: click>=8.0.0 in /usr/local/lib/python3.12/dist-packages (from typer<1.0.0,>=0.3.0->spacy) (8.3.0)\n",
            "Requirement already satisfied: shellingham>=1.3.0 in /usr/local/lib/python3.12/dist-packages (from typer<1.0.0,>=0.3.0->spacy) (1.5.4)\n",
            "Requirement already satisfied: rich>=10.11.0 in /usr/local/lib/python3.12/dist-packages (from typer<1.0.0,>=0.3.0->spacy) (13.9.4)\n",
            "Requirement already satisfied: cloudpathlib<1.0.0,>=0.7.0 in /usr/local/lib/python3.12/dist-packages (from weasel<0.5.0,>=0.1.0->spacy) (0.23.0)\n",
            "Requirement already satisfied: smart-open<8.0.0,>=5.2.1 in /usr/local/lib/python3.12/dist-packages (from weasel<0.5.0,>=0.1.0->spacy) (7.3.1)\n",
            "Requirement already satisfied: wrapt in /usr/local/lib/python3.12/dist-packages (from smart-open<8.0.0,>=5.2.1->weasel<0.5.0,>=0.1.0->spacy) (1.17.3)\n",
            "Requirement already satisfied: Pygments<3.0.0,>=2.15.1 in /usr/local/lib/python3.12/dist-packages (from nicegui) (2.19.2)\n",
            "Requirement already satisfied: aiofiles>=23.1.0 in /usr/local/lib/python3.12/dist-packages (from nicegui) (24.1.0)\n",
            "Requirement already satisfied: aiohttp>=3.10.2 in /usr/local/lib/python3.12/dist-packages (from nicegui) (3.13.0)\n",
            "Requirement already satisfied: docutils>=0.19.0 in /usr/local/lib/python3.12/dist-packages (from nicegui) (0.21.2)\n",
            "Requirement already satisfied: fastapi>=0.109.1 in /usr/local/lib/python3.12/dist-packages (from nicegui) (0.119.0)\n",
            "Requirement already satisfied: h11>=0.16.0 in /usr/local/lib/python3.12/dist-packages (from nicegui) (0.16.0)\n",
            "Requirement already satisfied: httpx>=0.24.0 in /usr/local/lib/python3.12/dist-packages (from nicegui) (0.28.1)\n",
            "Requirement already satisfied: ifaddr>=0.2.0 in /usr/local/lib/python3.12/dist-packages (from nicegui) (0.2.0)\n",
            "Requirement already satisfied: itsdangerous<3.0.0,>=2.1.2 in /usr/local/lib/python3.12/dist-packages (from nicegui) (2.2.0)\n",
            "Requirement already satisfied: markdown2!=2.4.11,>=2.4.7 in /usr/local/lib/python3.12/dist-packages (from nicegui) (2.5.4)\n",
            "Requirement already satisfied: orjson>=3.9.15 in /usr/local/lib/python3.12/dist-packages (from nicegui) (3.11.3)\n",
            "Requirement already satisfied: python-engineio>=4.12.0 in /usr/local/lib/python3.12/dist-packages (from nicegui) (4.12.3)\n",
            "Requirement already satisfied: python-multipart>=0.0.18 in /usr/local/lib/python3.12/dist-packages (from nicegui) (0.0.20)\n",
            "Requirement already satisfied: python-socketio>=5.14.0 in /usr/local/lib/python3.12/dist-packages (from python-socketio[asyncio-client]>=5.14.0->nicegui) (5.14.2)\n",
            "Requirement already satisfied: starlette>=0.45.3 in /usr/local/lib/python3.12/dist-packages (from nicegui) (0.48.0)\n",
            "Requirement already satisfied: uvicorn>=0.22.0 in /usr/local/lib/python3.12/dist-packages (from uvicorn[standard]>=0.22.0->nicegui) (0.37.0)\n",
            "Requirement already satisfied: watchfiles>=0.18.1 in /usr/local/lib/python3.12/dist-packages (from nicegui) (1.1.1)\n",
            "Requirement already satisfied: MarkupSafe>=2.0 in /usr/local/lib/python3.12/dist-packages (from jinja2->torch) (3.0.3)\n",
            "Requirement already satisfied: aiohappyeyeballs>=2.5.0 in /usr/local/lib/python3.12/dist-packages (from aiohttp>=3.10.2->nicegui) (2.6.1)\n",
            "Requirement already satisfied: aiosignal>=1.4.0 in /usr/local/lib/python3.12/dist-packages (from aiohttp>=3.10.2->nicegui) (1.4.0)\n",
            "Requirement already satisfied: attrs>=17.3.0 in /usr/local/lib/python3.12/dist-packages (from aiohttp>=3.10.2->nicegui) (25.4.0)\n",
            "Requirement already satisfied: frozenlist>=1.1.1 in /usr/local/lib/python3.12/dist-packages (from aiohttp>=3.10.2->nicegui) (1.8.0)\n",
            "Requirement already satisfied: multidict<7.0,>=4.5 in /usr/local/lib/python3.12/dist-packages (from aiohttp>=3.10.2->nicegui) (6.7.0)\n",
            "Requirement already satisfied: propcache>=0.2.0 in /usr/local/lib/python3.12/dist-packages (from aiohttp>=3.10.2->nicegui) (0.4.1)\n",
            "Requirement already satisfied: yarl<2.0,>=1.17.0 in /usr/local/lib/python3.12/dist-packages (from aiohttp>=3.10.2->nicegui) (1.22.0)\n",
            "Requirement already satisfied: anyio<5,>=3.6.2 in /usr/local/lib/python3.12/dist-packages (from starlette>=0.45.3->nicegui) (4.11.0)\n",
            "Requirement already satisfied: sniffio>=1.1 in /usr/local/lib/python3.12/dist-packages (from anyio<5,>=3.6.2->starlette>=0.45.3->nicegui) (1.3.1)\n",
            "Requirement already satisfied: httpcore==1.* in /usr/local/lib/python3.12/dist-packages (from httpx>=0.24.0->nicegui) (1.0.9)\n",
            "Requirement already satisfied: marisa-trie>=1.1.0 in /usr/local/lib/python3.12/dist-packages (from language-data>=1.2->langcodes<4.0.0,>=3.2.0->spacy) (1.3.1)\n",
            "Requirement already satisfied: matplotlib>=3.6.3 in /usr/local/lib/python3.12/dist-packages (from metric-visualizer>=0.9.6->pyabsa==2.3.4) (3.10.0)\n",
            "Requirement already satisfied: tikzplotlib in /usr/local/lib/python3.12/dist-packages (from metric-visualizer>=0.9.6->pyabsa==2.3.4) (0.10.1)\n",
            "Requirement already satisfied: scipy in /usr/local/lib/python3.12/dist-packages (from metric-visualizer>=0.9.6->pyabsa==2.3.4) (1.16.2)\n",
            "Requirement already satisfied: tabulate in /usr/local/lib/python3.12/dist-packages (from metric-visualizer>=0.9.6->pyabsa==2.3.4) (0.9.0)\n",
            "Requirement already satisfied: natsort in /usr/local/lib/python3.12/dist-packages (from metric-visualizer>=0.9.6->pyabsa==2.3.4) (8.4.0)\n",
            "Requirement already satisfied: openpyxl in /usr/local/lib/python3.12/dist-packages (from metric-visualizer>=0.9.6->pyabsa==2.3.4) (3.1.5)\n",
            "Requirement already satisfied: xlsxwriter in /usr/local/lib/python3.12/dist-packages (from metric-visualizer>=0.9.6->pyabsa==2.3.4) (3.2.9)\n",
            "Requirement already satisfied: scikit-learn in /usr/local/lib/python3.12/dist-packages (from metric-visualizer>=0.9.6->pyabsa==2.3.4) (1.6.1)\n",
            "Requirement already satisfied: colorama in /usr/local/lib/python3.12/dist-packages (from metric-visualizer>=0.9.6->pyabsa==2.3.4) (0.4.6)\n",
            "Requirement already satisfied: contourpy>=1.0.1 in /usr/local/lib/python3.12/dist-packages (from matplotlib>=3.6.3->metric-visualizer>=0.9.6->pyabsa==2.3.4) (1.3.3)\n",
            "Requirement already satisfied: cycler>=0.10 in /usr/local/lib/python3.12/dist-packages (from matplotlib>=3.6.3->metric-visualizer>=0.9.6->pyabsa==2.3.4) (0.12.1)\n",
            "Requirement already satisfied: fonttools>=4.22.0 in /usr/local/lib/python3.12/dist-packages (from matplotlib>=3.6.3->metric-visualizer>=0.9.6->pyabsa==2.3.4) (4.60.1)\n",
            "Requirement already satisfied: kiwisolver>=1.3.1 in /usr/local/lib/python3.12/dist-packages (from matplotlib>=3.6.3->metric-visualizer>=0.9.6->pyabsa==2.3.4) (1.4.9)\n",
            "Requirement already satisfied: pillow>=8 in /usr/local/lib/python3.12/dist-packages (from matplotlib>=3.6.3->metric-visualizer>=0.9.6->pyabsa==2.3.4) (11.3.0)\n",
            "Requirement already satisfied: pyparsing>=2.3.1 in /usr/local/lib/python3.12/dist-packages (from matplotlib>=3.6.3->metric-visualizer>=0.9.6->pyabsa==2.3.4) (3.2.5)\n",
            "Requirement already satisfied: six>=1.5 in /usr/local/lib/python3.12/dist-packages (from python-dateutil>=2.8.2->pandas) (1.17.0)\n",
            "Requirement already satisfied: simple-websocket>=0.10.0 in /usr/local/lib/python3.12/dist-packages (from python-engineio>=4.12.0->nicegui) (1.1.0)\n",
            "Requirement already satisfied: bidict>=0.21.0 in /usr/local/lib/python3.12/dist-packages (from python-socketio>=5.14.0->python-socketio[asyncio-client]>=5.14.0->nicegui) (0.23.1)\n",
            "Requirement already satisfied: markdown-it-py>=2.2.0 in /usr/local/lib/python3.12/dist-packages (from rich>=10.11.0->typer<1.0.0,>=0.3.0->spacy) (4.0.0)\n",
            "Requirement already satisfied: mdurl~=0.1 in /usr/local/lib/python3.12/dist-packages (from markdown-it-py>=2.2.0->rich>=10.11.0->typer<1.0.0,>=0.3.0->spacy) (0.1.2)\n",
            "Requirement already satisfied: wsproto in /usr/local/lib/python3.12/dist-packages (from simple-websocket>=0.10.0->python-engineio>=4.12.0->nicegui) (1.2.0)\n",
            "Requirement already satisfied: mpmath<1.4,>=1.1.0 in /usr/local/lib/python3.12/dist-packages (from sympy>=1.13.3->torch) (1.3.0)\n",
            "Requirement already satisfied: huggingface-hub<1.0,>=0.23.2 in /usr/local/lib/python3.12/dist-packages (from transformers>=4.29.0->pyabsa==2.3.4) (0.35.3)\n",
            "Requirement already satisfied: pyyaml>=5.1 in /usr/local/lib/python3.12/dist-packages (from transformers>=4.29.0->pyabsa==2.3.4) (6.0.3)\n",
            "Requirement already satisfied: regex!=2019.12.17 in /usr/local/lib/python3.12/dist-packages (from transformers>=4.29.0->pyabsa==2.3.4) (2024.11.6)\n",
            "Requirement already satisfied: safetensors>=0.4.1 in /usr/local/lib/python3.12/dist-packages (from transformers>=4.29.0->pyabsa==2.3.4) (0.6.2)\n",
            "Requirement already satisfied: tokenizers<0.21,>=0.20 in /usr/local/lib/python3.12/dist-packages (from transformers>=4.29.0->pyabsa==2.3.4) (0.20.3)\n",
            "Requirement already satisfied: hf-xet<2.0.0,>=1.1.3 in /usr/local/lib/python3.12/dist-packages (from huggingface-hub<1.0,>=0.23.2->transformers>=4.29.0->pyabsa==2.3.4) (1.1.10)\n",
            "Requirement already satisfied: httptools>=0.6.3 in /usr/local/lib/python3.12/dist-packages (from uvicorn[standard]>=0.22.0->nicegui) (0.7.1)\n",
            "Requirement already satisfied: python-dotenv>=0.13 in /usr/local/lib/python3.12/dist-packages (from uvicorn[standard]>=0.22.0->nicegui) (1.1.1)\n",
            "Requirement already satisfied: uvloop>=0.15.1 in /usr/local/lib/python3.12/dist-packages (from uvicorn[standard]>=0.22.0->nicegui) (0.22.1)\n",
            "Requirement already satisfied: websockets>=10.4 in /usr/local/lib/python3.12/dist-packages (from uvicorn[standard]>=0.22.0->nicegui) (15.0.1)\n",
            "Requirement already satisfied: gitdb<5,>=4.0.1 in /usr/local/lib/python3.12/dist-packages (from gitpython->pyabsa==2.3.4) (4.0.12)\n",
            "Requirement already satisfied: smmap<6,>=3.0.1 in /usr/local/lib/python3.12/dist-packages (from gitdb<5,>=4.0.1->gitpython->pyabsa==2.3.4) (5.0.2)\n",
            "Requirement already satisfied: et-xmlfile in /usr/local/lib/python3.12/dist-packages (from openpyxl->metric-visualizer>=0.9.6->pyabsa==2.3.4) (2.0.0)\n",
            "Requirement already satisfied: joblib>=1.2.0 in /usr/local/lib/python3.12/dist-packages (from scikit-learn->metric-visualizer>=0.9.6->pyabsa==2.3.4) (1.5.2)\n",
            "Requirement already satisfied: threadpoolctl>=3.1.0 in /usr/local/lib/python3.12/dist-packages (from scikit-learn->metric-visualizer>=0.9.6->pyabsa==2.3.4) (3.6.0)\n",
            "Requirement already satisfied: webcolors in /usr/local/lib/python3.12/dist-packages (from tikzplotlib->metric-visualizer>=0.9.6->pyabsa==2.3.4) (24.11.1)\n",
            "\u001b[33mWARNING: Ignoring invalid distribution ~ransformers (/usr/local/lib/python3.12/dist-packages)\u001b[0m\u001b[33m\n",
            "\u001b[0m\u001b[33mWARNING: Ignoring invalid distribution ~ransformers (/usr/local/lib/python3.12/dist-packages)\u001b[0m\u001b[33m\n",
            "\u001b[0m"
          ]
        }
      ]
    },
    {
      "cell_type": "code",
      "source": [
        "# Installiere spaCy und das deutsche Sprachmodell\n",
        "#!pip install spacy\n",
        "#!python -m spacy download de_core_news_sm\n",
        "\n",
        "import spacy\n",
        "import logging\n",
        "import sys\n",
        "\n",
        "# Logging für Debugging\n",
        "logging.basicConfig(level=logging.INFO)\n",
        "logger = logging.getLogger(\"test_spacy\")\n",
        "\n",
        "# Prüfe Python-Version\n",
        "logger.info(f\"Python Version: {sys.version}\")\n",
        "\n",
        "# Lade spaCy-Modell\n",
        "try:\n",
        "    nlp = spacy.load(\"de_core_news_sm\")\n",
        "    logger.info(f\"spaCy Version: {spacy.__version__}, Modell 'de_core_news_sm' geladen\")\n",
        "except Exception as e:\n",
        "    logger.error(f\"Fehler beim Laden von 'de_core_news_sm': {str(e)}\")\n",
        "    raise\n",
        "\n",
        "# Definiere die clean_text-Funktion\n",
        "def clean_text(text):\n",
        "    # Prozessieren des Textes mit spaCy\n",
        "    doc = nlp(text)\n",
        "    # Tokenisierung und Entfernung von Satzzeichen\n",
        "    cleaned_tokens = [token.text for token in doc if not token.is_punct]\n",
        "    # Zusammenfügen der bereinigten Tokens zu einem String\n",
        "    cleaned_text = \" \".join(cleaned_tokens)\n",
        "    return cleaned_text\n",
        "\n",
        "# Beispielanwendung\n",
        "sample_text = \"Das ist ein Beispieltext mit Satzzeichen! Und Großbuchstaben.\"\n",
        "cleaned_sample_text = clean_text(sample_text)\n",
        "print(f\"Originaltext: {sample_text}\")\n",
        "print(f\"Bereinigter Text: {cleaned_sample_text}\")"
      ],
      "metadata": {
        "colab": {
          "base_uri": "https://localhost:8080/"
        },
        "id": "nuncA0wlFXXp",
        "outputId": "9c77e971-c2ed-4b14-fe68-9ecb99adad06"
      },
      "execution_count": 4,
      "outputs": [
        {
          "output_type": "stream",
          "name": "stdout",
          "text": [
            "Originaltext: Das ist ein Beispieltext mit Satzzeichen! Und Großbuchstaben.\n",
            "Bereinigter Text: Das ist ein Beispieltext mit Satzzeichen Und Großbuchstaben\n"
          ]
        }
      ]
    },
    {
      "cell_type": "markdown",
      "source": [
        "Überprüfen, ob Stacy geladen werden kann"
      ],
      "metadata": {
        "id": "M8Dy8oyDOOfb"
      }
    },
    {
      "cell_type": "markdown",
      "source": [
        "Textbereinigung"
      ],
      "metadata": {
        "id": "AjG7r4eXl4XT"
      }
    },
    {
      "cell_type": "code",
      "source": [
        "import re\n",
        "import sys\n",
        "import logging"
      ],
      "metadata": {
        "id": "DH6QH5q9l7S6"
      },
      "execution_count": null,
      "outputs": []
    },
    {
      "cell_type": "markdown",
      "source": [
        "# Sentimentanalyse"
      ],
      "metadata": {
        "id": "fNPEGKZWy0hr"
      }
    }
  ]
}