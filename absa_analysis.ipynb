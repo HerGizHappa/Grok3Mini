{
  "nbformat": 4,
  "nbformat_minor": 0,
  "metadata": {
    "colab": {
      "provenance": [],
      "gpuType": "T4",
      "authorship_tag": "ABX9TyNuYxqVqienCuvfU4bIpQZt"
    },
    "kernelspec": {
      "name": "python3",
      "display_name": "Python 3"
    },
    "language_info": {
      "name": "python"
    },
    "accelerator": "GPU"
  },
  "cells": [
    {
      "cell_type": "markdown",
      "source": [
        "#**Aspektbasierte Sentimentanalyse (ABSA)**"
      ],
      "metadata": {
        "id": "76tO553pli9d"
      }
    },
    {
      "cell_type": "markdown",
      "source": [
        "## **Relevante Python Bibliotheken importieren**"
      ],
      "metadata": {
        "id": "w0vpAVA6kiDs"
      }
    },
    {
      "cell_type": "code",
      "source": [
        "!python --version"
      ],
      "metadata": {
        "colab": {
          "base_uri": "https://localhost:8080/"
        },
        "id": "jSgK04KHNolY",
        "outputId": "20a600fe-2f3e-46b3-ae4b-23603111b21a"
      },
      "execution_count": 1,
      "outputs": [
        {
          "output_type": "stream",
          "name": "stdout",
          "text": [
            "Python 3.12.12\n"
          ]
        }
      ]
    },
    {
      "cell_type": "markdown",
      "source": [
        "## Import relevanter Biblioheken"
      ],
      "metadata": {
        "id": "cOd3-ZB4k19C"
      }
    },
    {
      "cell_type": "code",
      "source": [
        "# Upgrade pip und setuptools für bessere Kompatibilität\n",
        "#!pip install --upgrade pip setuptools wheel\n",
        "\n",
        "# Installiere die neuere transformers-Version (mit Python 3.12-kompatiblen tokenizers)\n",
        "#!pip install transformers==4.45.2\n",
        "\n",
        "# Installiere die anderen Pakete (pyabsa, torch, etc.)\n",
        "#!pip install pyabsa==2.3.4 torch pandas tqdm spacy nicegui"
      ],
      "metadata": {
        "id": "soSUkH_4KtLG",
        "collapsed": true
      },
      "execution_count": 2,
      "outputs": []
    },
    {
      "cell_type": "code",
      "source": [
        "# Installiere spaCy und das deutsche Sprachmodell\n",
        "#!pip install spacy\n",
        "#!python -m spacy download de_core_news_sm\n",
        "\n",
        "import spacy\n",
        "import logging\n",
        "import sys\n",
        "import re\n",
        "\n",
        "# Logging für Debugging\n",
        "logging.basicConfig(level=logging.INFO)\n",
        "logger = logging.getLogger(\"test_spacy\")\n",
        "\n",
        "# Prüfe Python-Version\n",
        "logger.info(f\"Python Version: {sys.version}\")\n",
        "\n",
        "# Lade spaCy-Modell\n",
        "try:\n",
        "    nlp = spacy.load(\"de_core_news_sm\")\n",
        "    logger.info(f\"spaCy Version: {spacy.__version__}, Modell 'de_core_news_sm' geladen\")\n",
        "except Exception as e:\n",
        "    logger.error(f\"Fehler beim Laden von 'de_core_news_sm': {str(e)}\")\n",
        "    raise\n",
        "\n",
        "# Definiere die clean_text-Funktion\n",
        "def clean_text(text):\n",
        "    # Prozessieren des Textes mit spaCy\n",
        "    doc = nlp(text)\n",
        "    # Tokenisierung und Entfernung von Satzzeichen\n",
        "    cleaned_tokens = [token.text for token in doc if not token.is_punct]\n",
        "    # Zusammenfügen der bereinigten Tokens zu einem String\n",
        "    cleaned_text = \" \".join(cleaned_tokens)\n",
        "    return cleaned_text\n",
        "\n",
        "# Beispielanwendung\n",
        "sample_text = \"Das ist ein Beispieltext mit Satzzeichen! Und Großbuchstaben.\"\n",
        "cleaned_sample_text = clean_text(sample_text)\n",
        "print(f\"Originaltext: {sample_text}\")\n",
        "print(f\"Bereinigter Text: {cleaned_sample_text}\")"
      ],
      "metadata": {
        "colab": {
          "base_uri": "https://localhost:8080/"
        },
        "id": "nuncA0wlFXXp",
        "outputId": "f94be1e2-4618-48c3-fa13-1f1a14569d4f"
      },
      "execution_count": 2,
      "outputs": [
        {
          "output_type": "stream",
          "name": "stdout",
          "text": [
            "Originaltext: Das ist ein Beispieltext mit Satzzeichen! Und Großbuchstaben.\n",
            "Bereinigter Text: Das ist ein Beispieltext mit Satzzeichen Und Großbuchstaben\n"
          ]
        }
      ]
    },
    {
      "cell_type": "markdown",
      "source": [
        "Textbereinigung"
      ],
      "metadata": {
        "id": "AjG7r4eXl4XT"
      }
    },
    {
      "cell_type": "markdown",
      "source": [
        "# Sentimentanalyse"
      ],
      "metadata": {
        "id": "fNPEGKZWy0hr"
      }
    },
    {
      "cell_type": "code",
      "source": [],
      "metadata": {
        "id": "MpXgAVWJV3aA"
      },
      "execution_count": null,
      "outputs": []
    }
  ]
}