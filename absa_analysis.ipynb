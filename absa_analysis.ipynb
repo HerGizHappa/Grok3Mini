{
  "nbformat": 4,
  "nbformat_minor": 0,
  "metadata": {
    "colab": {
      "provenance": [],
      "gpuType": "T4",
      "authorship_tag": "ABX9TyNI7ianRrwllIIx2hM6qoa6",
      "include_colab_link": true
    },
    "kernelspec": {
      "name": "python3",
      "display_name": "Python 3"
    },
    "language_info": {
      "name": "python"
    },
    "accelerator": "GPU"
  },
  "cells": [
    {
      "cell_type": "markdown",
      "metadata": {
        "id": "view-in-github",
        "colab_type": "text"
      },
      "source": [
        "<a href=\"https://colab.research.google.com/github/HerGizHappa/Grok3Mini/blob/main/absa_analysis.ipynb\" target=\"_parent\"><img src=\"https://colab.research.google.com/assets/colab-badge.svg\" alt=\"Open In Colab\"/></a>"
      ]
    },
    {
      "cell_type": "markdown",
      "source": [
        "#**Aspektbasierte Sentimentanalyse (ABSA)**"
      ],
      "metadata": {
        "id": "76tO553pli9d"
      }
    },
    {
      "cell_type": "markdown",
      "source": [
        "## **Relevante Python Bibliotheken importieren**"
      ],
      "metadata": {
        "id": "w0vpAVA6kiDs"
      }
    },
    {
      "cell_type": "code",
      "source": [
        "import os\n",
        "import sys\n",
        "\n",
        "# Setze pyenv-Umgebung für Shell-Befehle\n",
        "os.environ[\"PYENV_ROOT\"] = \"/root/.pyenv\"\n",
        "os.environ[\"PATH\"] = f\"{os.environ['PYENV_ROOT']}/bin:{os.environ['PYENV_ROOT']}/shims:{os.environ['PATH']}\"\n",
        "os.system('eval \"$(/root/.pyenv/bin/pyenv init -)\"')\n",
        "os.system('pyenv global 3.11.9')\n",
        "\n",
        "# Setze den Python-Interpreter für den Kernel\n",
        "sys.path.insert(0, \"/root/.pyenv/versions/3.11.9/lib/python3.11/site-packages\")\n",
        "os.environ[\"PYTHONPATH\"] = f\"/root/.pyenv/versions/3.11.9/lib/python3.11/site-packages:{os.environ.get('PYTHONPATH', '')}\"\n",
        "\n",
        "# Überprüfe die Python-Version\n",
        "!python3 --version\n",
        "import sys\n",
        "print(f\"Python-Version im Kernel: {sys.version}\")"
      ],
      "metadata": {
        "colab": {
          "base_uri": "https://localhost:8080/"
        },
        "id": "jSgK04KHNolY",
        "outputId": "83e55357-f086-415d-e834-967d3b4430b0"
      },
      "execution_count": 1,
      "outputs": [
        {
          "output_type": "stream",
          "name": "stdout",
          "text": [
            "Python 3.11.9\n",
            "Python-Version im Kernel: 3.12.12 (main, Oct 10 2025, 08:52:57) [GCC 11.4.0]\n"
          ]
        }
      ]
    },
    {
      "cell_type": "markdown",
      "source": [
        "## Import relevanter Biblioheken"
      ],
      "metadata": {
        "id": "cOd3-ZB4k19C"
      }
    },
    {
      "cell_type": "code",
      "source": [
        "!python3 -m pip install pyabsa==2.3.4 transformers==4.29.0 torch pandas tqdm spacy nicegui\n",
        "!python3 -m spacy download de_core_news_sm"
      ],
      "metadata": {
        "colab": {
          "base_uri": "https://localhost:8080/"
        },
        "id": "soSUkH_4KtLG",
        "outputId": "a7c9a6a9-b8fb-4c9f-e74b-e4823c3e72fa"
      },
      "execution_count": 2,
      "outputs": [
        {
          "output_type": "stream",
          "name": "stdout",
          "text": [
            "Requirement already satisfied: pyabsa==2.3.4 in /root/.pyenv/versions/3.11.9/lib/python3.11/site-packages (2.3.4)\n",
            "Requirement already satisfied: transformers==4.29.0 in /root/.pyenv/versions/3.11.9/lib/python3.11/site-packages (4.29.0)\n",
            "Requirement already satisfied: torch in /root/.pyenv/versions/3.11.9/lib/python3.11/site-packages (2.9.0)\n",
            "Requirement already satisfied: pandas in /root/.pyenv/versions/3.11.9/lib/python3.11/site-packages (2.3.3)\n",
            "Requirement already satisfied: tqdm in /root/.pyenv/versions/3.11.9/lib/python3.11/site-packages (4.67.1)\n",
            "Requirement already satisfied: spacy in /root/.pyenv/versions/3.11.9/lib/python3.11/site-packages (3.8.7)\n",
            "Requirement already satisfied: nicegui in /root/.pyenv/versions/3.11.9/lib/python3.11/site-packages (3.0.4)\n",
            "Requirement already satisfied: findfile>=2.0.0 in /root/.pyenv/versions/3.11.9/lib/python3.11/site-packages (from pyabsa==2.3.4) (2.1.1)\n",
            "Requirement already satisfied: autocuda>=0.16 in /root/.pyenv/versions/3.11.9/lib/python3.11/site-packages (from pyabsa==2.3.4) (0.16)\n",
            "Requirement already satisfied: metric-visualizer>=0.9.6 in /root/.pyenv/versions/3.11.9/lib/python3.11/site-packages (from pyabsa==2.3.4) (0.9.17)\n",
            "Requirement already satisfied: boostaug>=2.3.5 in /root/.pyenv/versions/3.11.9/lib/python3.11/site-packages (from pyabsa==2.3.4) (2.3.5)\n",
            "Requirement already satisfied: networkx in /root/.pyenv/versions/3.11.9/lib/python3.11/site-packages (from pyabsa==2.3.4) (3.5)\n",
            "Requirement already satisfied: seqeval in /root/.pyenv/versions/3.11.9/lib/python3.11/site-packages (from pyabsa==2.3.4) (1.2.2)\n",
            "Requirement already satisfied: update-checker in /root/.pyenv/versions/3.11.9/lib/python3.11/site-packages (from pyabsa==2.3.4) (0.18.0)\n",
            "Requirement already satisfied: typing-extensions in /root/.pyenv/versions/3.11.9/lib/python3.11/site-packages (from pyabsa==2.3.4) (4.15.0)\n",
            "Requirement already satisfied: pytorch-warmup in /root/.pyenv/versions/3.11.9/lib/python3.11/site-packages (from pyabsa==2.3.4) (0.2.0)\n",
            "Requirement already satisfied: termcolor in /root/.pyenv/versions/3.11.9/lib/python3.11/site-packages (from pyabsa==2.3.4) (3.1.0)\n",
            "Requirement already satisfied: gitpython in /root/.pyenv/versions/3.11.9/lib/python3.11/site-packages (from pyabsa==2.3.4) (3.1.45)\n",
            "Requirement already satisfied: sentencepiece in /root/.pyenv/versions/3.11.9/lib/python3.11/site-packages (from pyabsa==2.3.4) (0.2.1)\n",
            "Requirement already satisfied: protobuf<4.0.0 in /root/.pyenv/versions/3.11.9/lib/python3.11/site-packages (from pyabsa==2.3.4) (3.20.3)\n",
            "Requirement already satisfied: filelock in /root/.pyenv/versions/3.11.9/lib/python3.11/site-packages (from transformers==4.29.0) (3.20.0)\n",
            "Requirement already satisfied: huggingface-hub<1.0,>=0.11.0 in /root/.pyenv/versions/3.11.9/lib/python3.11/site-packages (from transformers==4.29.0) (0.35.3)\n",
            "Requirement already satisfied: numpy>=1.17 in /root/.pyenv/versions/3.11.9/lib/python3.11/site-packages (from transformers==4.29.0) (2.3.4)\n",
            "Requirement already satisfied: packaging>=20.0 in /root/.pyenv/versions/3.11.9/lib/python3.11/site-packages (from transformers==4.29.0) (25.0)\n",
            "Requirement already satisfied: pyyaml>=5.1 in /root/.pyenv/versions/3.11.9/lib/python3.11/site-packages (from transformers==4.29.0) (6.0.3)\n",
            "Requirement already satisfied: regex!=2019.12.17 in /root/.pyenv/versions/3.11.9/lib/python3.11/site-packages (from transformers==4.29.0) (2025.9.18)\n",
            "Requirement already satisfied: requests in /root/.pyenv/versions/3.11.9/lib/python3.11/site-packages (from transformers==4.29.0) (2.32.5)\n",
            "Requirement already satisfied: tokenizers!=0.11.3,<0.14,>=0.11.1 in /root/.pyenv/versions/3.11.9/lib/python3.11/site-packages (from transformers==4.29.0) (0.13.3)\n",
            "Requirement already satisfied: fsspec>=2023.5.0 in /root/.pyenv/versions/3.11.9/lib/python3.11/site-packages (from huggingface-hub<1.0,>=0.11.0->transformers==4.29.0) (2025.9.0)\n",
            "Requirement already satisfied: hf-xet<2.0.0,>=1.1.3 in /root/.pyenv/versions/3.11.9/lib/python3.11/site-packages (from huggingface-hub<1.0,>=0.11.0->transformers==4.29.0) (1.1.10)\n",
            "Requirement already satisfied: sympy>=1.13.3 in /root/.pyenv/versions/3.11.9/lib/python3.11/site-packages (from torch) (1.14.0)\n",
            "Requirement already satisfied: jinja2 in /root/.pyenv/versions/3.11.9/lib/python3.11/site-packages (from torch) (3.1.6)\n",
            "Requirement already satisfied: nvidia-cuda-nvrtc-cu12==12.8.93 in /root/.pyenv/versions/3.11.9/lib/python3.11/site-packages (from torch) (12.8.93)\n",
            "Requirement already satisfied: nvidia-cuda-runtime-cu12==12.8.90 in /root/.pyenv/versions/3.11.9/lib/python3.11/site-packages (from torch) (12.8.90)\n",
            "Requirement already satisfied: nvidia-cuda-cupti-cu12==12.8.90 in /root/.pyenv/versions/3.11.9/lib/python3.11/site-packages (from torch) (12.8.90)\n",
            "Requirement already satisfied: nvidia-cudnn-cu12==9.10.2.21 in /root/.pyenv/versions/3.11.9/lib/python3.11/site-packages (from torch) (9.10.2.21)\n",
            "Requirement already satisfied: nvidia-cublas-cu12==12.8.4.1 in /root/.pyenv/versions/3.11.9/lib/python3.11/site-packages (from torch) (12.8.4.1)\n",
            "Requirement already satisfied: nvidia-cufft-cu12==11.3.3.83 in /root/.pyenv/versions/3.11.9/lib/python3.11/site-packages (from torch) (11.3.3.83)\n",
            "Requirement already satisfied: nvidia-curand-cu12==10.3.9.90 in /root/.pyenv/versions/3.11.9/lib/python3.11/site-packages (from torch) (10.3.9.90)\n",
            "Requirement already satisfied: nvidia-cusolver-cu12==11.7.3.90 in /root/.pyenv/versions/3.11.9/lib/python3.11/site-packages (from torch) (11.7.3.90)\n",
            "Requirement already satisfied: nvidia-cusparse-cu12==12.5.8.93 in /root/.pyenv/versions/3.11.9/lib/python3.11/site-packages (from torch) (12.5.8.93)\n",
            "Requirement already satisfied: nvidia-cusparselt-cu12==0.7.1 in /root/.pyenv/versions/3.11.9/lib/python3.11/site-packages (from torch) (0.7.1)\n",
            "Requirement already satisfied: nvidia-nccl-cu12==2.27.5 in /root/.pyenv/versions/3.11.9/lib/python3.11/site-packages (from torch) (2.27.5)\n",
            "Requirement already satisfied: nvidia-nvshmem-cu12==3.3.20 in /root/.pyenv/versions/3.11.9/lib/python3.11/site-packages (from torch) (3.3.20)\n",
            "Requirement already satisfied: nvidia-nvtx-cu12==12.8.90 in /root/.pyenv/versions/3.11.9/lib/python3.11/site-packages (from torch) (12.8.90)\n",
            "Requirement already satisfied: nvidia-nvjitlink-cu12==12.8.93 in /root/.pyenv/versions/3.11.9/lib/python3.11/site-packages (from torch) (12.8.93)\n",
            "Requirement already satisfied: nvidia-cufile-cu12==1.13.1.3 in /root/.pyenv/versions/3.11.9/lib/python3.11/site-packages (from torch) (1.13.1.3)\n",
            "Requirement already satisfied: triton==3.5.0 in /root/.pyenv/versions/3.11.9/lib/python3.11/site-packages (from torch) (3.5.0)\n",
            "Requirement already satisfied: python-dateutil>=2.8.2 in /root/.pyenv/versions/3.11.9/lib/python3.11/site-packages (from pandas) (2.9.0.post0)\n",
            "Requirement already satisfied: pytz>=2020.1 in /root/.pyenv/versions/3.11.9/lib/python3.11/site-packages (from pandas) (2025.2)\n",
            "Requirement already satisfied: tzdata>=2022.7 in /root/.pyenv/versions/3.11.9/lib/python3.11/site-packages (from pandas) (2025.2)\n",
            "Requirement already satisfied: spacy-legacy<3.1.0,>=3.0.11 in /root/.pyenv/versions/3.11.9/lib/python3.11/site-packages (from spacy) (3.0.12)\n",
            "Requirement already satisfied: spacy-loggers<2.0.0,>=1.0.0 in /root/.pyenv/versions/3.11.9/lib/python3.11/site-packages (from spacy) (1.0.5)\n",
            "Requirement already satisfied: murmurhash<1.1.0,>=0.28.0 in /root/.pyenv/versions/3.11.9/lib/python3.11/site-packages (from spacy) (1.0.13)\n",
            "Requirement already satisfied: cymem<2.1.0,>=2.0.2 in /root/.pyenv/versions/3.11.9/lib/python3.11/site-packages (from spacy) (2.0.11)\n",
            "Requirement already satisfied: preshed<3.1.0,>=3.0.2 in /root/.pyenv/versions/3.11.9/lib/python3.11/site-packages (from spacy) (3.0.10)\n",
            "Requirement already satisfied: thinc<8.4.0,>=8.3.4 in /root/.pyenv/versions/3.11.9/lib/python3.11/site-packages (from spacy) (8.3.6)\n",
            "Requirement already satisfied: wasabi<1.2.0,>=0.9.1 in /root/.pyenv/versions/3.11.9/lib/python3.11/site-packages (from spacy) (1.1.3)\n",
            "Requirement already satisfied: srsly<3.0.0,>=2.4.3 in /root/.pyenv/versions/3.11.9/lib/python3.11/site-packages (from spacy) (2.5.1)\n",
            "Requirement already satisfied: catalogue<2.1.0,>=2.0.6 in /root/.pyenv/versions/3.11.9/lib/python3.11/site-packages (from spacy) (2.0.10)\n",
            "Requirement already satisfied: weasel<0.5.0,>=0.1.0 in /root/.pyenv/versions/3.11.9/lib/python3.11/site-packages (from spacy) (0.4.1)\n",
            "Requirement already satisfied: typer<1.0.0,>=0.3.0 in /root/.pyenv/versions/3.11.9/lib/python3.11/site-packages (from spacy) (0.19.2)\n",
            "Requirement already satisfied: pydantic!=1.8,!=1.8.1,<3.0.0,>=1.7.4 in /root/.pyenv/versions/3.11.9/lib/python3.11/site-packages (from spacy) (2.12.3)\n",
            "Requirement already satisfied: setuptools in /root/.pyenv/versions/3.11.9/lib/python3.11/site-packages (from spacy) (65.5.0)\n",
            "Requirement already satisfied: langcodes<4.0.0,>=3.2.0 in /root/.pyenv/versions/3.11.9/lib/python3.11/site-packages (from spacy) (3.5.0)\n",
            "Requirement already satisfied: language-data>=1.2 in /root/.pyenv/versions/3.11.9/lib/python3.11/site-packages (from langcodes<4.0.0,>=3.2.0->spacy) (1.3.0)\n",
            "Requirement already satisfied: annotated-types>=0.6.0 in /root/.pyenv/versions/3.11.9/lib/python3.11/site-packages (from pydantic!=1.8,!=1.8.1,<3.0.0,>=1.7.4->spacy) (0.7.0)\n",
            "Requirement already satisfied: pydantic-core==2.41.4 in /root/.pyenv/versions/3.11.9/lib/python3.11/site-packages (from pydantic!=1.8,!=1.8.1,<3.0.0,>=1.7.4->spacy) (2.41.4)\n",
            "Requirement already satisfied: typing-inspection>=0.4.2 in /root/.pyenv/versions/3.11.9/lib/python3.11/site-packages (from pydantic!=1.8,!=1.8.1,<3.0.0,>=1.7.4->spacy) (0.4.2)\n",
            "Requirement already satisfied: charset_normalizer<4,>=2 in /root/.pyenv/versions/3.11.9/lib/python3.11/site-packages (from requests->transformers==4.29.0) (3.4.4)\n",
            "Requirement already satisfied: idna<4,>=2.5 in /root/.pyenv/versions/3.11.9/lib/python3.11/site-packages (from requests->transformers==4.29.0) (3.11)\n",
            "Requirement already satisfied: urllib3<3,>=1.21.1 in /root/.pyenv/versions/3.11.9/lib/python3.11/site-packages (from requests->transformers==4.29.0) (2.5.0)\n",
            "Requirement already satisfied: certifi>=2017.4.17 in /root/.pyenv/versions/3.11.9/lib/python3.11/site-packages (from requests->transformers==4.29.0) (2025.10.5)\n",
            "Requirement already satisfied: blis<1.4.0,>=1.3.0 in /root/.pyenv/versions/3.11.9/lib/python3.11/site-packages (from thinc<8.4.0,>=8.3.4->spacy) (1.3.0)\n",
            "Requirement already satisfied: confection<1.0.0,>=0.0.1 in /root/.pyenv/versions/3.11.9/lib/python3.11/site-packages (from thinc<8.4.0,>=8.3.4->spacy) (0.1.5)\n",
            "Requirement already satisfied: click>=8.0.0 in /root/.pyenv/versions/3.11.9/lib/python3.11/site-packages (from typer<1.0.0,>=0.3.0->spacy) (8.3.0)\n",
            "Requirement already satisfied: shellingham>=1.3.0 in /root/.pyenv/versions/3.11.9/lib/python3.11/site-packages (from typer<1.0.0,>=0.3.0->spacy) (1.5.4)\n",
            "Requirement already satisfied: rich>=10.11.0 in /root/.pyenv/versions/3.11.9/lib/python3.11/site-packages (from typer<1.0.0,>=0.3.0->spacy) (14.2.0)\n",
            "Requirement already satisfied: cloudpathlib<1.0.0,>=0.7.0 in /root/.pyenv/versions/3.11.9/lib/python3.11/site-packages (from weasel<0.5.0,>=0.1.0->spacy) (0.23.0)\n",
            "Requirement already satisfied: smart-open<8.0.0,>=5.2.1 in /root/.pyenv/versions/3.11.9/lib/python3.11/site-packages (from weasel<0.5.0,>=0.1.0->spacy) (7.3.1)\n",
            "Requirement already satisfied: wrapt in /root/.pyenv/versions/3.11.9/lib/python3.11/site-packages (from smart-open<8.0.0,>=5.2.1->weasel<0.5.0,>=0.1.0->spacy) (1.17.3)\n",
            "Requirement already satisfied: Pygments<3.0.0,>=2.15.1 in /root/.pyenv/versions/3.11.9/lib/python3.11/site-packages (from nicegui) (2.19.2)\n",
            "Requirement already satisfied: aiofiles>=23.1.0 in /root/.pyenv/versions/3.11.9/lib/python3.11/site-packages (from nicegui) (25.1.0)\n",
            "Requirement already satisfied: aiohttp>=3.10.2 in /root/.pyenv/versions/3.11.9/lib/python3.11/site-packages (from nicegui) (3.13.1)\n",
            "Requirement already satisfied: docutils>=0.19.0 in /root/.pyenv/versions/3.11.9/lib/python3.11/site-packages (from nicegui) (0.22.2)\n",
            "Requirement already satisfied: fastapi>=0.109.1 in /root/.pyenv/versions/3.11.9/lib/python3.11/site-packages (from nicegui) (0.119.0)\n",
            "Requirement already satisfied: h11>=0.16.0 in /root/.pyenv/versions/3.11.9/lib/python3.11/site-packages (from nicegui) (0.16.0)\n",
            "Requirement already satisfied: httpx>=0.24.0 in /root/.pyenv/versions/3.11.9/lib/python3.11/site-packages (from nicegui) (0.28.1)\n",
            "Requirement already satisfied: ifaddr>=0.2.0 in /root/.pyenv/versions/3.11.9/lib/python3.11/site-packages (from nicegui) (0.2.0)\n",
            "Requirement already satisfied: itsdangerous<3.0.0,>=2.1.2 in /root/.pyenv/versions/3.11.9/lib/python3.11/site-packages (from nicegui) (2.2.0)\n",
            "Requirement already satisfied: markdown2!=2.4.11,>=2.4.7 in /root/.pyenv/versions/3.11.9/lib/python3.11/site-packages (from nicegui) (2.5.4)\n",
            "Requirement already satisfied: orjson>=3.9.15 in /root/.pyenv/versions/3.11.9/lib/python3.11/site-packages (from nicegui) (3.11.3)\n",
            "Requirement already satisfied: python-engineio>=4.12.0 in /root/.pyenv/versions/3.11.9/lib/python3.11/site-packages (from nicegui) (4.12.3)\n",
            "Requirement already satisfied: python-multipart>=0.0.18 in /root/.pyenv/versions/3.11.9/lib/python3.11/site-packages (from nicegui) (0.0.20)\n",
            "Requirement already satisfied: python-socketio>=5.14.0 in /root/.pyenv/versions/3.11.9/lib/python3.11/site-packages (from python-socketio[asyncio-client]>=5.14.0->nicegui) (5.14.2)\n",
            "Requirement already satisfied: starlette>=0.45.3 in /root/.pyenv/versions/3.11.9/lib/python3.11/site-packages (from nicegui) (0.48.0)\n",
            "Requirement already satisfied: uvicorn>=0.22.0 in /root/.pyenv/versions/3.11.9/lib/python3.11/site-packages (from uvicorn[standard]>=0.22.0->nicegui) (0.37.0)\n",
            "Requirement already satisfied: watchfiles>=0.18.1 in /root/.pyenv/versions/3.11.9/lib/python3.11/site-packages (from nicegui) (1.1.1)\n",
            "Requirement already satisfied: MarkupSafe>=2.0 in /root/.pyenv/versions/3.11.9/lib/python3.11/site-packages (from jinja2->torch) (3.0.3)\n",
            "Requirement already satisfied: aiohappyeyeballs>=2.5.0 in /root/.pyenv/versions/3.11.9/lib/python3.11/site-packages (from aiohttp>=3.10.2->nicegui) (2.6.1)\n",
            "Requirement already satisfied: aiosignal>=1.4.0 in /root/.pyenv/versions/3.11.9/lib/python3.11/site-packages (from aiohttp>=3.10.2->nicegui) (1.4.0)\n",
            "Requirement already satisfied: attrs>=17.3.0 in /root/.pyenv/versions/3.11.9/lib/python3.11/site-packages (from aiohttp>=3.10.2->nicegui) (25.4.0)\n",
            "Requirement already satisfied: frozenlist>=1.1.1 in /root/.pyenv/versions/3.11.9/lib/python3.11/site-packages (from aiohttp>=3.10.2->nicegui) (1.8.0)\n",
            "Requirement already satisfied: multidict<7.0,>=4.5 in /root/.pyenv/versions/3.11.9/lib/python3.11/site-packages (from aiohttp>=3.10.2->nicegui) (6.7.0)\n",
            "Requirement already satisfied: propcache>=0.2.0 in /root/.pyenv/versions/3.11.9/lib/python3.11/site-packages (from aiohttp>=3.10.2->nicegui) (0.4.1)\n",
            "Requirement already satisfied: yarl<2.0,>=1.17.0 in /root/.pyenv/versions/3.11.9/lib/python3.11/site-packages (from aiohttp>=3.10.2->nicegui) (1.22.0)\n",
            "Requirement already satisfied: anyio<5,>=3.6.2 in /root/.pyenv/versions/3.11.9/lib/python3.11/site-packages (from starlette>=0.45.3->nicegui) (4.11.0)\n",
            "Requirement already satisfied: sniffio>=1.1 in /root/.pyenv/versions/3.11.9/lib/python3.11/site-packages (from anyio<5,>=3.6.2->starlette>=0.45.3->nicegui) (1.3.1)\n",
            "Requirement already satisfied: httpcore==1.* in /root/.pyenv/versions/3.11.9/lib/python3.11/site-packages (from httpx>=0.24.0->nicegui) (1.0.9)\n",
            "Requirement already satisfied: marisa-trie>=1.1.0 in /root/.pyenv/versions/3.11.9/lib/python3.11/site-packages (from language-data>=1.2->langcodes<4.0.0,>=3.2.0->spacy) (1.3.1)\n",
            "Requirement already satisfied: matplotlib>=3.6.3 in /root/.pyenv/versions/3.11.9/lib/python3.11/site-packages (from metric-visualizer>=0.9.6->pyabsa==2.3.4) (3.10.7)\n",
            "Requirement already satisfied: tikzplotlib in /root/.pyenv/versions/3.11.9/lib/python3.11/site-packages (from metric-visualizer>=0.9.6->pyabsa==2.3.4) (0.10.1)\n",
            "Requirement already satisfied: scipy in /root/.pyenv/versions/3.11.9/lib/python3.11/site-packages (from metric-visualizer>=0.9.6->pyabsa==2.3.4) (1.16.2)\n",
            "Requirement already satisfied: tabulate in /root/.pyenv/versions/3.11.9/lib/python3.11/site-packages (from metric-visualizer>=0.9.6->pyabsa==2.3.4) (0.9.0)\n",
            "Requirement already satisfied: natsort in /root/.pyenv/versions/3.11.9/lib/python3.11/site-packages (from metric-visualizer>=0.9.6->pyabsa==2.3.4) (8.4.0)\n",
            "Requirement already satisfied: openpyxl in /root/.pyenv/versions/3.11.9/lib/python3.11/site-packages (from metric-visualizer>=0.9.6->pyabsa==2.3.4) (3.1.5)\n",
            "Requirement already satisfied: xlsxwriter in /root/.pyenv/versions/3.11.9/lib/python3.11/site-packages (from metric-visualizer>=0.9.6->pyabsa==2.3.4) (3.2.9)\n",
            "Requirement already satisfied: scikit-learn in /root/.pyenv/versions/3.11.9/lib/python3.11/site-packages (from metric-visualizer>=0.9.6->pyabsa==2.3.4) (1.7.2)\n",
            "Requirement already satisfied: colorama in /root/.pyenv/versions/3.11.9/lib/python3.11/site-packages (from metric-visualizer>=0.9.6->pyabsa==2.3.4) (0.4.6)\n",
            "Requirement already satisfied: contourpy>=1.0.1 in /root/.pyenv/versions/3.11.9/lib/python3.11/site-packages (from matplotlib>=3.6.3->metric-visualizer>=0.9.6->pyabsa==2.3.4) (1.3.3)\n",
            "Requirement already satisfied: cycler>=0.10 in /root/.pyenv/versions/3.11.9/lib/python3.11/site-packages (from matplotlib>=3.6.3->metric-visualizer>=0.9.6->pyabsa==2.3.4) (0.12.1)\n",
            "Requirement already satisfied: fonttools>=4.22.0 in /root/.pyenv/versions/3.11.9/lib/python3.11/site-packages (from matplotlib>=3.6.3->metric-visualizer>=0.9.6->pyabsa==2.3.4) (4.60.1)\n",
            "Requirement already satisfied: kiwisolver>=1.3.1 in /root/.pyenv/versions/3.11.9/lib/python3.11/site-packages (from matplotlib>=3.6.3->metric-visualizer>=0.9.6->pyabsa==2.3.4) (1.4.9)\n",
            "Requirement already satisfied: pillow>=8 in /root/.pyenv/versions/3.11.9/lib/python3.11/site-packages (from matplotlib>=3.6.3->metric-visualizer>=0.9.6->pyabsa==2.3.4) (12.0.0)\n",
            "Requirement already satisfied: pyparsing>=3 in /root/.pyenv/versions/3.11.9/lib/python3.11/site-packages (from matplotlib>=3.6.3->metric-visualizer>=0.9.6->pyabsa==2.3.4) (3.2.5)\n",
            "Requirement already satisfied: six>=1.5 in /root/.pyenv/versions/3.11.9/lib/python3.11/site-packages (from python-dateutil>=2.8.2->pandas) (1.17.0)\n",
            "Requirement already satisfied: simple-websocket>=0.10.0 in /root/.pyenv/versions/3.11.9/lib/python3.11/site-packages (from python-engineio>=4.12.0->nicegui) (1.1.0)\n",
            "Requirement already satisfied: bidict>=0.21.0 in /root/.pyenv/versions/3.11.9/lib/python3.11/site-packages (from python-socketio>=5.14.0->python-socketio[asyncio-client]>=5.14.0->nicegui) (0.23.1)\n",
            "Requirement already satisfied: markdown-it-py>=2.2.0 in /root/.pyenv/versions/3.11.9/lib/python3.11/site-packages (from rich>=10.11.0->typer<1.0.0,>=0.3.0->spacy) (4.0.0)\n",
            "Requirement already satisfied: mdurl~=0.1 in /root/.pyenv/versions/3.11.9/lib/python3.11/site-packages (from markdown-it-py>=2.2.0->rich>=10.11.0->typer<1.0.0,>=0.3.0->spacy) (0.1.2)\n",
            "Requirement already satisfied: wsproto in /root/.pyenv/versions/3.11.9/lib/python3.11/site-packages (from simple-websocket>=0.10.0->python-engineio>=4.12.0->nicegui) (1.2.0)\n",
            "Requirement already satisfied: mpmath<1.4,>=1.1.0 in /root/.pyenv/versions/3.11.9/lib/python3.11/site-packages (from sympy>=1.13.3->torch) (1.3.0)\n",
            "Requirement already satisfied: httptools>=0.6.3 in /root/.pyenv/versions/3.11.9/lib/python3.11/site-packages (from uvicorn[standard]>=0.22.0->nicegui) (0.7.1)\n",
            "Requirement already satisfied: python-dotenv>=0.13 in /root/.pyenv/versions/3.11.9/lib/python3.11/site-packages (from uvicorn[standard]>=0.22.0->nicegui) (1.1.1)\n",
            "Requirement already satisfied: uvloop>=0.15.1 in /root/.pyenv/versions/3.11.9/lib/python3.11/site-packages (from uvicorn[standard]>=0.22.0->nicegui) (0.22.1)\n",
            "Requirement already satisfied: websockets>=10.4 in /root/.pyenv/versions/3.11.9/lib/python3.11/site-packages (from uvicorn[standard]>=0.22.0->nicegui) (15.0.1)\n",
            "Requirement already satisfied: gitdb<5,>=4.0.1 in /root/.pyenv/versions/3.11.9/lib/python3.11/site-packages (from gitpython->pyabsa==2.3.4) (4.0.12)\n",
            "Requirement already satisfied: smmap<6,>=3.0.1 in /root/.pyenv/versions/3.11.9/lib/python3.11/site-packages (from gitdb<5,>=4.0.1->gitpython->pyabsa==2.3.4) (5.0.2)\n",
            "Requirement already satisfied: et-xmlfile in /root/.pyenv/versions/3.11.9/lib/python3.11/site-packages (from openpyxl->metric-visualizer>=0.9.6->pyabsa==2.3.4) (2.0.0)\n",
            "Requirement already satisfied: joblib>=1.2.0 in /root/.pyenv/versions/3.11.9/lib/python3.11/site-packages (from scikit-learn->metric-visualizer>=0.9.6->pyabsa==2.3.4) (1.5.2)\n",
            "Requirement already satisfied: threadpoolctl>=3.1.0 in /root/.pyenv/versions/3.11.9/lib/python3.11/site-packages (from scikit-learn->metric-visualizer>=0.9.6->pyabsa==2.3.4) (3.6.0)\n",
            "Requirement already satisfied: webcolors in /root/.pyenv/versions/3.11.9/lib/python3.11/site-packages (from tikzplotlib->metric-visualizer>=0.9.6->pyabsa==2.3.4) (24.11.1)\n",
            "Collecting de-core-news-sm==3.8.0\n",
            "  Downloading https://github.com/explosion/spacy-models/releases/download/de_core_news_sm-3.8.0/de_core_news_sm-3.8.0-py3-none-any.whl (14.6 MB)\n",
            "\u001b[2K     \u001b[90m━━━━━━━━━━━━━━━━━━━━━━━━━━━━━━━━━━━━━━━━\u001b[0m \u001b[32m14.6/14.6 MB\u001b[0m \u001b[31m134.3 MB/s\u001b[0m  \u001b[33m0:00:00\u001b[0m\n",
            "\u001b[?25h\u001b[38;5;2m✔ Download and installation successful\u001b[0m\n",
            "You can now load the package via spacy.load('de_core_news_sm')\n"
          ]
        }
      ]
    },
    {
      "cell_type": "code",
      "source": [
        "import spacy\n",
        "import logging\n",
        "logging.basicConfig(level=logging.INFO)\n",
        "logger = logging.getLogger(\"test_spacy\")\n",
        "nlp = spacy.load('de_core_news_sm')\n",
        "logger.info(f\"spaCy Version: {spacy.__version__}, Modell 'de_core_news_sm' geladen\")"
      ],
      "metadata": {
        "colab": {
          "base_uri": "https://localhost:8080/",
          "height": 460
        },
        "id": "to7M28coR9HZ",
        "outputId": "74202b04-a8de-40ad-a7ae-77e27c4be102"
      },
      "execution_count": 3,
      "outputs": [
        {
          "output_type": "error",
          "ename": "ModuleNotFoundError",
          "evalue": "No module named 'srsly.ujson.ujson'",
          "traceback": [
            "\u001b[0;31m---------------------------------------------------------------------------\u001b[0m",
            "\u001b[0;31mModuleNotFoundError\u001b[0m                       Traceback (most recent call last)",
            "\u001b[0;32m/tmp/ipython-input-118132881.py\u001b[0m in \u001b[0;36m<cell line: 0>\u001b[0;34m()\u001b[0m\n\u001b[0;32m----> 1\u001b[0;31m \u001b[0;32mimport\u001b[0m \u001b[0mspacy\u001b[0m\u001b[0;34m\u001b[0m\u001b[0;34m\u001b[0m\u001b[0m\n\u001b[0m\u001b[1;32m      2\u001b[0m \u001b[0;32mimport\u001b[0m \u001b[0mlogging\u001b[0m\u001b[0;34m\u001b[0m\u001b[0;34m\u001b[0m\u001b[0m\n\u001b[1;32m      3\u001b[0m \u001b[0mlogging\u001b[0m\u001b[0;34m.\u001b[0m\u001b[0mbasicConfig\u001b[0m\u001b[0;34m(\u001b[0m\u001b[0mlevel\u001b[0m\u001b[0;34m=\u001b[0m\u001b[0mlogging\u001b[0m\u001b[0;34m.\u001b[0m\u001b[0mINFO\u001b[0m\u001b[0;34m)\u001b[0m\u001b[0;34m\u001b[0m\u001b[0;34m\u001b[0m\u001b[0m\n\u001b[1;32m      4\u001b[0m \u001b[0mlogger\u001b[0m \u001b[0;34m=\u001b[0m \u001b[0mlogging\u001b[0m\u001b[0;34m.\u001b[0m\u001b[0mgetLogger\u001b[0m\u001b[0;34m(\u001b[0m\u001b[0;34m\"test_spacy\"\u001b[0m\u001b[0;34m)\u001b[0m\u001b[0;34m\u001b[0m\u001b[0;34m\u001b[0m\u001b[0m\n\u001b[1;32m      5\u001b[0m \u001b[0mnlp\u001b[0m \u001b[0;34m=\u001b[0m \u001b[0mspacy\u001b[0m\u001b[0;34m.\u001b[0m\u001b[0mload\u001b[0m\u001b[0;34m(\u001b[0m\u001b[0;34m'de_core_news_sm'\u001b[0m\u001b[0;34m)\u001b[0m\u001b[0;34m\u001b[0m\u001b[0;34m\u001b[0m\u001b[0m\n",
            "\u001b[0;32m~/.pyenv/versions/3.11.9/lib/python3.11/site-packages/spacy/__init__.py\u001b[0m in \u001b[0;36m<module>\u001b[0;34m\u001b[0m\n\u001b[1;32m      4\u001b[0m \u001b[0;34m\u001b[0m\u001b[0m\n\u001b[1;32m      5\u001b[0m \u001b[0;31m# set library-specific custom warning handling before doing anything else\u001b[0m\u001b[0;34m\u001b[0m\u001b[0;34m\u001b[0m\u001b[0m\n\u001b[0;32m----> 6\u001b[0;31m \u001b[0;32mfrom\u001b[0m \u001b[0;34m.\u001b[0m\u001b[0merrors\u001b[0m \u001b[0;32mimport\u001b[0m \u001b[0msetup_default_warnings\u001b[0m\u001b[0;34m\u001b[0m\u001b[0;34m\u001b[0m\u001b[0m\n\u001b[0m\u001b[1;32m      7\u001b[0m \u001b[0;34m\u001b[0m\u001b[0m\n\u001b[1;32m      8\u001b[0m \u001b[0msetup_default_warnings\u001b[0m\u001b[0;34m(\u001b[0m\u001b[0;34m)\u001b[0m  \u001b[0;31m# noqa: E402\u001b[0m\u001b[0;34m\u001b[0m\u001b[0;34m\u001b[0m\u001b[0m\n",
            "\u001b[0;32m~/.pyenv/versions/3.11.9/lib/python3.11/site-packages/spacy/errors.py\u001b[0m in \u001b[0;36m<module>\u001b[0;34m\u001b[0m\n\u001b[1;32m      1\u001b[0m \u001b[0;32mimport\u001b[0m \u001b[0mwarnings\u001b[0m\u001b[0;34m\u001b[0m\u001b[0;34m\u001b[0m\u001b[0m\n\u001b[1;32m      2\u001b[0m \u001b[0;34m\u001b[0m\u001b[0m\n\u001b[0;32m----> 3\u001b[0;31m \u001b[0;32mfrom\u001b[0m \u001b[0;34m.\u001b[0m\u001b[0mcompat\u001b[0m \u001b[0;32mimport\u001b[0m \u001b[0mLiteral\u001b[0m\u001b[0;34m\u001b[0m\u001b[0;34m\u001b[0m\u001b[0m\n\u001b[0m\u001b[1;32m      4\u001b[0m \u001b[0;34m\u001b[0m\u001b[0m\n\u001b[1;32m      5\u001b[0m \u001b[0;34m\u001b[0m\u001b[0m\n",
            "\u001b[0;32m~/.pyenv/versions/3.11.9/lib/python3.11/site-packages/spacy/compat.py\u001b[0m in \u001b[0;36m<module>\u001b[0;34m\u001b[0m\n\u001b[1;32m      2\u001b[0m \u001b[0;32mimport\u001b[0m \u001b[0msys\u001b[0m\u001b[0;34m\u001b[0m\u001b[0;34m\u001b[0m\u001b[0m\n\u001b[1;32m      3\u001b[0m \u001b[0;34m\u001b[0m\u001b[0m\n\u001b[0;32m----> 4\u001b[0;31m \u001b[0;32mfrom\u001b[0m \u001b[0mthinc\u001b[0m\u001b[0;34m.\u001b[0m\u001b[0mutil\u001b[0m \u001b[0;32mimport\u001b[0m \u001b[0mcopy_array\u001b[0m\u001b[0;34m\u001b[0m\u001b[0;34m\u001b[0m\u001b[0m\n\u001b[0m\u001b[1;32m      5\u001b[0m \u001b[0;34m\u001b[0m\u001b[0m\n\u001b[1;32m      6\u001b[0m \u001b[0;32mtry\u001b[0m\u001b[0;34m:\u001b[0m\u001b[0;34m\u001b[0m\u001b[0;34m\u001b[0m\u001b[0m\n",
            "\u001b[0;32m~/.pyenv/versions/3.11.9/lib/python3.11/site-packages/thinc/__init__.py\u001b[0m in \u001b[0;36m<module>\u001b[0;34m\u001b[0m\n\u001b[1;32m      3\u001b[0m \u001b[0;34m\u001b[0m\u001b[0m\n\u001b[1;32m      4\u001b[0m \u001b[0;32mfrom\u001b[0m \u001b[0;34m.\u001b[0m\u001b[0mabout\u001b[0m \u001b[0;32mimport\u001b[0m \u001b[0m__version__\u001b[0m\u001b[0;34m\u001b[0m\u001b[0;34m\u001b[0m\u001b[0m\n\u001b[0;32m----> 5\u001b[0;31m \u001b[0;32mfrom\u001b[0m \u001b[0;34m.\u001b[0m\u001b[0mconfig\u001b[0m \u001b[0;32mimport\u001b[0m \u001b[0mregistry\u001b[0m\u001b[0;34m\u001b[0m\u001b[0;34m\u001b[0m\u001b[0m\n\u001b[0m\u001b[1;32m      6\u001b[0m \u001b[0;34m\u001b[0m\u001b[0m\n\u001b[1;32m      7\u001b[0m \u001b[0;31m# fmt: off\u001b[0m\u001b[0;34m\u001b[0m\u001b[0;34m\u001b[0m\u001b[0m\n",
            "\u001b[0;32m~/.pyenv/versions/3.11.9/lib/python3.11/site-packages/thinc/config.py\u001b[0m in \u001b[0;36m<module>\u001b[0;34m\u001b[0m\n\u001b[1;32m      1\u001b[0m \u001b[0;32mimport\u001b[0m \u001b[0mcatalogue\u001b[0m\u001b[0;34m\u001b[0m\u001b[0;34m\u001b[0m\u001b[0m\n\u001b[0;32m----> 2\u001b[0;31m \u001b[0;32mimport\u001b[0m \u001b[0mconfection\u001b[0m\u001b[0;34m\u001b[0m\u001b[0;34m\u001b[0m\u001b[0m\n\u001b[0m\u001b[1;32m      3\u001b[0m \u001b[0;32mfrom\u001b[0m \u001b[0mconfection\u001b[0m \u001b[0;32mimport\u001b[0m \u001b[0mVARIABLE_RE\u001b[0m\u001b[0;34m,\u001b[0m \u001b[0mConfig\u001b[0m\u001b[0;34m,\u001b[0m \u001b[0mConfigValidationError\u001b[0m\u001b[0;34m,\u001b[0m \u001b[0mPromise\u001b[0m\u001b[0;34m\u001b[0m\u001b[0;34m\u001b[0m\u001b[0m\n\u001b[1;32m      4\u001b[0m \u001b[0;34m\u001b[0m\u001b[0m\n\u001b[1;32m      5\u001b[0m \u001b[0;32mfrom\u001b[0m \u001b[0;34m.\u001b[0m\u001b[0mtypes\u001b[0m \u001b[0;32mimport\u001b[0m \u001b[0mDecorator\u001b[0m\u001b[0;34m\u001b[0m\u001b[0;34m\u001b[0m\u001b[0m\n",
            "\u001b[0;32m~/.pyenv/versions/3.11.9/lib/python3.11/site-packages/confection/__init__.py\u001b[0m in \u001b[0;36m<module>\u001b[0;34m\u001b[0m\n\u001b[1;32m     33\u001b[0m )\n\u001b[1;32m     34\u001b[0m \u001b[0;34m\u001b[0m\u001b[0m\n\u001b[0;32m---> 35\u001b[0;31m \u001b[0;32mimport\u001b[0m \u001b[0msrsly\u001b[0m\u001b[0;34m\u001b[0m\u001b[0;34m\u001b[0m\u001b[0m\n\u001b[0m\u001b[1;32m     36\u001b[0m \u001b[0;34m\u001b[0m\u001b[0m\n\u001b[1;32m     37\u001b[0m \u001b[0;32mtry\u001b[0m\u001b[0;34m:\u001b[0m\u001b[0;34m\u001b[0m\u001b[0;34m\u001b[0m\u001b[0m\n",
            "\u001b[0;32m~/.pyenv/versions/3.11.9/lib/python3.11/site-packages/srsly/__init__.py\u001b[0m in \u001b[0;36m<module>\u001b[0;34m\u001b[0m\n\u001b[0;32m----> 1\u001b[0;31m \u001b[0;32mfrom\u001b[0m \u001b[0;34m.\u001b[0m\u001b[0m_json_api\u001b[0m \u001b[0;32mimport\u001b[0m \u001b[0mread_json\u001b[0m\u001b[0;34m,\u001b[0m \u001b[0mread_gzip_json\u001b[0m\u001b[0;34m,\u001b[0m \u001b[0mwrite_json\u001b[0m\u001b[0;34m,\u001b[0m \u001b[0mwrite_gzip_json\u001b[0m\u001b[0;34m\u001b[0m\u001b[0;34m\u001b[0m\u001b[0m\n\u001b[0m\u001b[1;32m      2\u001b[0m \u001b[0;32mfrom\u001b[0m \u001b[0;34m.\u001b[0m\u001b[0m_json_api\u001b[0m \u001b[0;32mimport\u001b[0m \u001b[0mread_gzip_jsonl\u001b[0m\u001b[0;34m,\u001b[0m \u001b[0mwrite_gzip_jsonl\u001b[0m\u001b[0;34m\u001b[0m\u001b[0;34m\u001b[0m\u001b[0m\n\u001b[1;32m      3\u001b[0m \u001b[0;32mfrom\u001b[0m \u001b[0;34m.\u001b[0m\u001b[0m_json_api\u001b[0m \u001b[0;32mimport\u001b[0m \u001b[0mread_jsonl\u001b[0m\u001b[0;34m,\u001b[0m \u001b[0mwrite_jsonl\u001b[0m\u001b[0;34m\u001b[0m\u001b[0;34m\u001b[0m\u001b[0m\n\u001b[1;32m      4\u001b[0m \u001b[0;32mfrom\u001b[0m \u001b[0;34m.\u001b[0m\u001b[0m_json_api\u001b[0m \u001b[0;32mimport\u001b[0m \u001b[0mjson_dumps\u001b[0m\u001b[0;34m,\u001b[0m \u001b[0mjson_loads\u001b[0m\u001b[0;34m,\u001b[0m \u001b[0mis_json_serializable\u001b[0m\u001b[0;34m\u001b[0m\u001b[0;34m\u001b[0m\u001b[0m\n\u001b[1;32m      5\u001b[0m \u001b[0;32mfrom\u001b[0m \u001b[0;34m.\u001b[0m\u001b[0m_msgpack_api\u001b[0m \u001b[0;32mimport\u001b[0m \u001b[0mread_msgpack\u001b[0m\u001b[0;34m,\u001b[0m \u001b[0mwrite_msgpack\u001b[0m\u001b[0;34m,\u001b[0m \u001b[0mmsgpack_dumps\u001b[0m\u001b[0;34m,\u001b[0m \u001b[0mmsgpack_loads\u001b[0m\u001b[0;34m\u001b[0m\u001b[0;34m\u001b[0m\u001b[0m\n",
            "\u001b[0;32m~/.pyenv/versions/3.11.9/lib/python3.11/site-packages/srsly/_json_api.py\u001b[0m in \u001b[0;36m<module>\u001b[0;34m\u001b[0m\n\u001b[1;32m      4\u001b[0m \u001b[0;32mimport\u001b[0m \u001b[0mgzip\u001b[0m\u001b[0;34m\u001b[0m\u001b[0;34m\u001b[0m\u001b[0m\n\u001b[1;32m      5\u001b[0m \u001b[0;34m\u001b[0m\u001b[0m\n\u001b[0;32m----> 6\u001b[0;31m \u001b[0;32mfrom\u001b[0m \u001b[0;34m.\u001b[0m \u001b[0;32mimport\u001b[0m \u001b[0mujson\u001b[0m\u001b[0;34m\u001b[0m\u001b[0;34m\u001b[0m\u001b[0m\n\u001b[0m\u001b[1;32m      7\u001b[0m \u001b[0;32mfrom\u001b[0m \u001b[0;34m.\u001b[0m\u001b[0mutil\u001b[0m \u001b[0;32mimport\u001b[0m \u001b[0mforce_path\u001b[0m\u001b[0;34m,\u001b[0m \u001b[0mforce_string\u001b[0m\u001b[0;34m,\u001b[0m \u001b[0mFilePath\u001b[0m\u001b[0;34m,\u001b[0m \u001b[0mJSONInput\u001b[0m\u001b[0;34m,\u001b[0m \u001b[0mJSONOutput\u001b[0m\u001b[0;34m\u001b[0m\u001b[0;34m\u001b[0m\u001b[0m\n\u001b[1;32m      8\u001b[0m \u001b[0;34m\u001b[0m\u001b[0m\n",
            "\u001b[0;32m~/.pyenv/versions/3.11.9/lib/python3.11/site-packages/srsly/ujson/__init__.py\u001b[0m in \u001b[0;36m<module>\u001b[0;34m\u001b[0m\n\u001b[0;32m----> 1\u001b[0;31m \u001b[0;32mfrom\u001b[0m \u001b[0;34m.\u001b[0m\u001b[0mujson\u001b[0m \u001b[0;32mimport\u001b[0m \u001b[0mdecode\u001b[0m\u001b[0;34m,\u001b[0m \u001b[0mencode\u001b[0m\u001b[0;34m,\u001b[0m \u001b[0mdump\u001b[0m\u001b[0;34m,\u001b[0m \u001b[0mdumps\u001b[0m\u001b[0;34m,\u001b[0m \u001b[0mload\u001b[0m\u001b[0;34m,\u001b[0m \u001b[0mloads\u001b[0m  \u001b[0;31m# noqa: F401\u001b[0m\u001b[0;34m\u001b[0m\u001b[0;34m\u001b[0m\u001b[0m\n\u001b[0m",
            "\u001b[0;31mModuleNotFoundError\u001b[0m: No module named 'srsly.ujson.ujson'",
            "",
            "\u001b[0;31m---------------------------------------------------------------------------\u001b[0;32m\nNOTE: If your import is failing due to a missing package, you can\nmanually install dependencies using either !pip or !apt.\n\nTo view examples of installing some common dependencies, click the\n\"Open Examples\" button below.\n\u001b[0;31m---------------------------------------------------------------------------\u001b[0m\n"
          ],
          "errorDetails": {
            "actions": [
              {
                "action": "open_url",
                "actionText": "Open Examples",
                "url": "/notebooks/snippets/importing_libraries.ipynb"
              }
            ]
          }
        }
      ]
    },
    {
      "cell_type": "markdown",
      "source": [
        "Überprüfen, ob Stacy geladen werden kann"
      ],
      "metadata": {
        "id": "M8Dy8oyDOOfb"
      }
    },
    {
      "cell_type": "markdown",
      "source": [
        "Textbereinigung"
      ],
      "metadata": {
        "id": "AjG7r4eXl4XT"
      }
    },
    {
      "cell_type": "code",
      "source": [
        "import re\n",
        "import sys\n",
        "import logging"
      ],
      "metadata": {
        "id": "DH6QH5q9l7S6"
      },
      "execution_count": 8,
      "outputs": []
    },
    {
      "cell_type": "markdown",
      "source": [
        "# Sentimentanalyse"
      ],
      "metadata": {
        "id": "fNPEGKZWy0hr"
      }
    }
  ]
}