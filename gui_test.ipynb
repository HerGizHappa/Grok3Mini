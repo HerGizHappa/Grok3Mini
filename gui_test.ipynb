{
  "nbformat": 4,
  "nbformat_minor": 0,
  "metadata": {
    "colab": {
      "provenance": [],
      "authorship_tag": "ABX9TyPzeHBuBWnuTsR1Xk6f0HBa",
      "include_colab_link": true
    },
    "kernelspec": {
      "name": "python3",
      "display_name": "Python 3"
    },
    "language_info": {
      "name": "python"
    }
  },
  "cells": [
    {
      "cell_type": "markdown",
      "metadata": {
        "id": "view-in-github",
        "colab_type": "text"
      },
      "source": [
        "<a href=\"https://colab.research.google.com/github/HerGizHappa/Grok3Mini/blob/main/gui_test.ipynb\" target=\"_parent\"><img src=\"https://colab.research.google.com/assets/colab-badge.svg\" alt=\"Open In Colab\"/></a>"
      ]
    },
    {
      "cell_type": "markdown",
      "source": [
        "# **API-Einbindung mit Grok 3 Mini und NiceGUI**"
      ],
      "metadata": {
        "id": "aeB-gYwpA0yf"
      }
    },
    {
      "cell_type": "code",
      "source": [
        "# Installiere die benötigten Bibliotheken\n",
        "!pip install -U nicegui xai-sdk\n",
        "\n",
        "# Installiere pyngrok für die Verbindung von NiceGUI in Colab\n",
        "!pip install pyngrok\n",
        "\n",
        "# Lade das deutsche Sprachmodell für spaCy (falls später für ABSA oder Syn-Chain benötigt)\n",
        "!python -m spacy download de_core_news_sm"
      ],
      "metadata": {
        "colab": {
          "base_uri": "https://localhost:8080/"
        },
        "id": "o0Gu26ALEA_J",
        "outputId": "1498ab9c-c499-4557-96ca-e11d686630d9"
      },
      "execution_count": null,
      "outputs": [
        {
          "output_type": "stream",
          "name": "stdout",
          "text": [
            "Collecting nicegui\n",
            "  Downloading nicegui-3.0.4-py3-none-any.whl.metadata (11 kB)\n",
            "Collecting xai-sdk\n",
            "  Downloading xai_sdk-1.2.0-py3-none-any.whl.metadata (26 kB)\n",
            "Requirement already satisfied: Pygments<3.0.0,>=2.15.1 in /usr/local/lib/python3.12/dist-packages (from nicegui) (2.19.2)\n",
            "Requirement already satisfied: aiofiles>=23.1.0 in /usr/local/lib/python3.12/dist-packages (from nicegui) (24.1.0)\n",
            "Requirement already satisfied: aiohttp>=3.10.2 in /usr/local/lib/python3.12/dist-packages (from nicegui) (3.13.0)\n",
            "Requirement already satisfied: certifi>=2024.07.04 in /usr/local/lib/python3.12/dist-packages (from nicegui) (2025.10.5)\n",
            "Requirement already satisfied: docutils>=0.19.0 in /usr/local/lib/python3.12/dist-packages (from nicegui) (0.21.2)\n",
            "Requirement already satisfied: fastapi>=0.109.1 in /usr/local/lib/python3.12/dist-packages (from nicegui) (0.118.2)\n",
            "Requirement already satisfied: h11>=0.16.0 in /usr/local/lib/python3.12/dist-packages (from nicegui) (0.16.0)\n",
            "Requirement already satisfied: httpx>=0.24.0 in /usr/local/lib/python3.12/dist-packages (from nicegui) (0.28.1)\n",
            "Collecting ifaddr>=0.2.0 (from nicegui)\n",
            "  Downloading ifaddr-0.2.0-py3-none-any.whl.metadata (4.9 kB)\n",
            "Requirement already satisfied: itsdangerous<3.0.0,>=2.1.2 in /usr/local/lib/python3.12/dist-packages (from nicegui) (2.2.0)\n",
            "Requirement already satisfied: jinja2<4.0.0,>=3.1.6 in /usr/local/lib/python3.12/dist-packages (from nicegui) (3.1.6)\n",
            "Collecting markdown2!=2.4.11,>=2.4.7 (from nicegui)\n",
            "  Downloading markdown2-2.5.4-py3-none-any.whl.metadata (2.1 kB)\n",
            "Requirement already satisfied: orjson>=3.9.15 in /usr/local/lib/python3.12/dist-packages (from nicegui) (3.11.3)\n",
            "Collecting python-engineio>=4.12.0 (from nicegui)\n",
            "  Downloading python_engineio-4.12.3-py3-none-any.whl.metadata (2.2 kB)\n",
            "Requirement already satisfied: python-multipart>=0.0.18 in /usr/local/lib/python3.12/dist-packages (from nicegui) (0.0.20)\n",
            "Collecting python-socketio>=5.14.0 (from python-socketio[asyncio-client]>=5.14.0->nicegui)\n",
            "  Downloading python_socketio-5.14.1-py3-none-any.whl.metadata (3.2 kB)\n",
            "Requirement already satisfied: starlette>=0.45.3 in /usr/local/lib/python3.12/dist-packages (from nicegui) (0.48.0)\n",
            "Requirement already satisfied: typing-extensions>=4.0.0 in /usr/local/lib/python3.12/dist-packages (from nicegui) (4.15.0)\n",
            "Requirement already satisfied: uvicorn>=0.22.0 in /usr/local/lib/python3.12/dist-packages (from uvicorn[standard]>=0.22.0->nicegui) (0.37.0)\n",
            "Collecting watchfiles>=0.18.1 (from nicegui)\n",
            "  Downloading watchfiles-1.1.1-cp312-cp312-manylinux_2_17_x86_64.manylinux2014_x86_64.whl.metadata (4.9 kB)\n",
            "Requirement already satisfied: grpcio<2,>=1.72.1 in /usr/local/lib/python3.12/dist-packages (from xai-sdk) (1.75.1)\n",
            "Requirement already satisfied: opentelemetry-sdk<2,>=1.36.0 in /usr/local/lib/python3.12/dist-packages (from xai-sdk) (1.37.0)\n",
            "Requirement already satisfied: packaging<26,>=25.0 in /usr/local/lib/python3.12/dist-packages (from xai-sdk) (25.0)\n",
            "Requirement already satisfied: protobuf<7,>=5.29.4 in /usr/local/lib/python3.12/dist-packages (from xai-sdk) (5.29.5)\n",
            "Requirement already satisfied: pydantic<3,>=2.5.3 in /usr/local/lib/python3.12/dist-packages (from xai-sdk) (2.11.10)\n",
            "Requirement already satisfied: requests<3,>=2.31.0 in /usr/local/lib/python3.12/dist-packages (from xai-sdk) (2.32.4)\n",
            "Requirement already satisfied: aiohappyeyeballs>=2.5.0 in /usr/local/lib/python3.12/dist-packages (from aiohttp>=3.10.2->nicegui) (2.6.1)\n",
            "Requirement already satisfied: aiosignal>=1.4.0 in /usr/local/lib/python3.12/dist-packages (from aiohttp>=3.10.2->nicegui) (1.4.0)\n",
            "Requirement already satisfied: attrs>=17.3.0 in /usr/local/lib/python3.12/dist-packages (from aiohttp>=3.10.2->nicegui) (25.4.0)\n",
            "Requirement already satisfied: frozenlist>=1.1.1 in /usr/local/lib/python3.12/dist-packages (from aiohttp>=3.10.2->nicegui) (1.8.0)\n",
            "Requirement already satisfied: multidict<7.0,>=4.5 in /usr/local/lib/python3.12/dist-packages (from aiohttp>=3.10.2->nicegui) (6.7.0)\n",
            "Requirement already satisfied: propcache>=0.2.0 in /usr/local/lib/python3.12/dist-packages (from aiohttp>=3.10.2->nicegui) (0.3.2)\n",
            "Requirement already satisfied: yarl<2.0,>=1.17.0 in /usr/local/lib/python3.12/dist-packages (from aiohttp>=3.10.2->nicegui) (1.22.0)\n",
            "Requirement already satisfied: anyio in /usr/local/lib/python3.12/dist-packages (from httpx>=0.24.0->nicegui) (4.11.0)\n",
            "Requirement already satisfied: httpcore==1.* in /usr/local/lib/python3.12/dist-packages (from httpx>=0.24.0->nicegui) (1.0.9)\n",
            "Requirement already satisfied: idna in /usr/local/lib/python3.12/dist-packages (from httpx>=0.24.0->nicegui) (3.10)\n",
            "Requirement already satisfied: MarkupSafe>=2.0 in /usr/local/lib/python3.12/dist-packages (from jinja2<4.0.0,>=3.1.6->nicegui) (3.0.3)\n",
            "Requirement already satisfied: opentelemetry-api==1.37.0 in /usr/local/lib/python3.12/dist-packages (from opentelemetry-sdk<2,>=1.36.0->xai-sdk) (1.37.0)\n",
            "Requirement already satisfied: opentelemetry-semantic-conventions==0.58b0 in /usr/local/lib/python3.12/dist-packages (from opentelemetry-sdk<2,>=1.36.0->xai-sdk) (0.58b0)\n",
            "Requirement already satisfied: importlib-metadata<8.8.0,>=6.0 in /usr/local/lib/python3.12/dist-packages (from opentelemetry-api==1.37.0->opentelemetry-sdk<2,>=1.36.0->xai-sdk) (8.7.0)\n",
            "Requirement already satisfied: annotated-types>=0.6.0 in /usr/local/lib/python3.12/dist-packages (from pydantic<3,>=2.5.3->xai-sdk) (0.7.0)\n",
            "Requirement already satisfied: pydantic-core==2.33.2 in /usr/local/lib/python3.12/dist-packages (from pydantic<3,>=2.5.3->xai-sdk) (2.33.2)\n",
            "Requirement already satisfied: typing-inspection>=0.4.0 in /usr/local/lib/python3.12/dist-packages (from pydantic<3,>=2.5.3->xai-sdk) (0.4.2)\n",
            "Collecting simple-websocket>=0.10.0 (from python-engineio>=4.12.0->nicegui)\n",
            "  Downloading simple_websocket-1.1.0-py3-none-any.whl.metadata (1.5 kB)\n",
            "Collecting bidict>=0.21.0 (from python-socketio>=5.14.0->python-socketio[asyncio-client]>=5.14.0->nicegui)\n",
            "  Downloading bidict-0.23.1-py3-none-any.whl.metadata (8.7 kB)\n",
            "Requirement already satisfied: charset_normalizer<4,>=2 in /usr/local/lib/python3.12/dist-packages (from requests<3,>=2.31.0->xai-sdk) (3.4.3)\n",
            "Requirement already satisfied: urllib3<3,>=1.21.1 in /usr/local/lib/python3.12/dist-packages (from requests<3,>=2.31.0->xai-sdk) (2.5.0)\n",
            "Requirement already satisfied: click>=7.0 in /usr/local/lib/python3.12/dist-packages (from uvicorn>=0.22.0->uvicorn[standard]>=0.22.0->nicegui) (8.3.0)\n",
            "Collecting httptools>=0.6.3 (from uvicorn[standard]>=0.22.0->nicegui)\n",
            "  Downloading httptools-0.7.1-cp312-cp312-manylinux1_x86_64.manylinux_2_28_x86_64.manylinux_2_5_x86_64.whl.metadata (3.5 kB)\n",
            "Requirement already satisfied: python-dotenv>=0.13 in /usr/local/lib/python3.12/dist-packages (from uvicorn[standard]>=0.22.0->nicegui) (1.1.1)\n",
            "Requirement already satisfied: pyyaml>=5.1 in /usr/local/lib/python3.12/dist-packages (from uvicorn[standard]>=0.22.0->nicegui) (6.0.3)\n",
            "Collecting uvloop>=0.15.1 (from uvicorn[standard]>=0.22.0->nicegui)\n",
            "  Downloading uvloop-0.21.0-cp312-cp312-manylinux_2_17_x86_64.manylinux2014_x86_64.whl.metadata (4.9 kB)\n",
            "Requirement already satisfied: websockets>=10.4 in /usr/local/lib/python3.12/dist-packages (from uvicorn[standard]>=0.22.0->nicegui) (15.0.1)\n",
            "Requirement already satisfied: sniffio>=1.1 in /usr/local/lib/python3.12/dist-packages (from anyio->httpx>=0.24.0->nicegui) (1.3.1)\n",
            "Collecting wsproto (from simple-websocket>=0.10.0->python-engineio>=4.12.0->nicegui)\n",
            "  Downloading wsproto-1.2.0-py3-none-any.whl.metadata (5.6 kB)\n",
            "Requirement already satisfied: zipp>=3.20 in /usr/local/lib/python3.12/dist-packages (from importlib-metadata<8.8.0,>=6.0->opentelemetry-api==1.37.0->opentelemetry-sdk<2,>=1.36.0->xai-sdk) (3.23.0)\n",
            "Downloading nicegui-3.0.4-py3-none-any.whl (20.8 MB)\n",
            "\u001b[2K   \u001b[90m━━━━━━━━━━━━━━━━━━━━━━━━━━━━━━━━━━━━━━━━\u001b[0m \u001b[32m20.8/20.8 MB\u001b[0m \u001b[31m64.6 MB/s\u001b[0m eta \u001b[36m0:00:00\u001b[0m\n",
            "\u001b[?25hDownloading xai_sdk-1.2.0-py3-none-any.whl (156 kB)\n",
            "\u001b[2K   \u001b[90m━━━━━━━━━━━━━━━━━━━━━━━━━━━━━━━━━━━━━━━━\u001b[0m \u001b[32m156.6/156.6 kB\u001b[0m \u001b[31m11.7 MB/s\u001b[0m eta \u001b[36m0:00:00\u001b[0m\n",
            "\u001b[?25hDownloading ifaddr-0.2.0-py3-none-any.whl (12 kB)\n",
            "Downloading markdown2-2.5.4-py3-none-any.whl (49 kB)\n",
            "\u001b[2K   \u001b[90m━━━━━━━━━━━━━━━━━━━━━━━━━━━━━━━━━━━━━━━━\u001b[0m \u001b[32m50.0/50.0 kB\u001b[0m \u001b[31m3.1 MB/s\u001b[0m eta \u001b[36m0:00:00\u001b[0m\n",
            "\u001b[?25hDownloading python_engineio-4.12.3-py3-none-any.whl (59 kB)\n",
            "\u001b[2K   \u001b[90m━━━━━━━━━━━━━━━━━━━━━━━━━━━━━━━━━━━━━━━━\u001b[0m \u001b[32m59.6/59.6 kB\u001b[0m \u001b[31m4.4 MB/s\u001b[0m eta \u001b[36m0:00:00\u001b[0m\n",
            "\u001b[?25hDownloading python_socketio-5.14.1-py3-none-any.whl (78 kB)\n",
            "\u001b[2K   \u001b[90m━━━━━━━━━━━━━━━━━━━━━━━━━━━━━━━━━━━━━━━━\u001b[0m \u001b[32m78.5/78.5 kB\u001b[0m \u001b[31m5.4 MB/s\u001b[0m eta \u001b[36m0:00:00\u001b[0m\n",
            "\u001b[?25hDownloading watchfiles-1.1.1-cp312-cp312-manylinux_2_17_x86_64.manylinux2014_x86_64.whl (456 kB)\n",
            "\u001b[2K   \u001b[90m━━━━━━━━━━━━━━━━━━━━━━━━━━━━━━━━━━━━━━━━\u001b[0m \u001b[32m456.8/456.8 kB\u001b[0m \u001b[31m26.8 MB/s\u001b[0m eta \u001b[36m0:00:00\u001b[0m\n",
            "\u001b[?25hDownloading bidict-0.23.1-py3-none-any.whl (32 kB)\n",
            "Downloading httptools-0.7.1-cp312-cp312-manylinux1_x86_64.manylinux_2_28_x86_64.manylinux_2_5_x86_64.whl (517 kB)\n",
            "\u001b[2K   \u001b[90m━━━━━━━━━━━━━━━━━━━━━━━━━━━━━━━━━━━━━━━━\u001b[0m \u001b[32m517.7/517.7 kB\u001b[0m \u001b[31m23.4 MB/s\u001b[0m eta \u001b[36m0:00:00\u001b[0m\n",
            "\u001b[?25hDownloading simple_websocket-1.1.0-py3-none-any.whl (13 kB)\n",
            "Downloading uvloop-0.21.0-cp312-cp312-manylinux_2_17_x86_64.manylinux2014_x86_64.whl (4.7 MB)\n",
            "\u001b[2K   \u001b[90m━━━━━━━━━━━━━━━━━━━━━━━━━━━━━━━━━━━━━━━━\u001b[0m \u001b[32m4.7/4.7 MB\u001b[0m \u001b[31m76.1 MB/s\u001b[0m eta \u001b[36m0:00:00\u001b[0m\n",
            "\u001b[?25hDownloading wsproto-1.2.0-py3-none-any.whl (24 kB)\n",
            "Installing collected packages: ifaddr, wsproto, uvloop, markdown2, httptools, bidict, watchfiles, simple-websocket, python-engineio, python-socketio, xai-sdk, nicegui\n",
            "Successfully installed bidict-0.23.1 httptools-0.7.1 ifaddr-0.2.0 markdown2-2.5.4 nicegui-3.0.4 python-engineio-4.12.3 python-socketio-5.14.1 simple-websocket-1.1.0 uvloop-0.21.0 watchfiles-1.1.1 wsproto-1.2.0 xai-sdk-1.2.0\n",
            "Collecting pyngrok\n",
            "  Downloading pyngrok-7.4.0-py3-none-any.whl.metadata (8.1 kB)\n",
            "Requirement already satisfied: PyYAML>=5.1 in /usr/local/lib/python3.12/dist-packages (from pyngrok) (6.0.3)\n",
            "Downloading pyngrok-7.4.0-py3-none-any.whl (25 kB)\n",
            "Installing collected packages: pyngrok\n",
            "Successfully installed pyngrok-7.4.0\n",
            "Collecting de-core-news-sm==3.8.0\n",
            "  Downloading https://github.com/explosion/spacy-models/releases/download/de_core_news_sm-3.8.0/de_core_news_sm-3.8.0-py3-none-any.whl (14.6 MB)\n",
            "\u001b[2K     \u001b[90m━━━━━━━━━━━━━━━━━━━━━━━━━━━━━━━━━━━━━━━━\u001b[0m \u001b[32m14.6/14.6 MB\u001b[0m \u001b[31m69.0 MB/s\u001b[0m eta \u001b[36m0:00:00\u001b[0m\n",
            "\u001b[?25hInstalling collected packages: de-core-news-sm\n",
            "Successfully installed de-core-news-sm-3.8.0\n",
            "\u001b[38;5;2m✔ Download and installation successful\u001b[0m\n",
            "You can now load the package via spacy.load('de_core_news_sm')\n",
            "\u001b[38;5;3m⚠ Restart to reload dependencies\u001b[0m\n",
            "If you are in a Jupyter or Colab notebook, you may need to restart Python in\n",
            "order to load all the package's dependencies. You can do this by selecting the\n",
            "'Restart kernel' or 'Restart runtime' option.\n"
          ]
        }
      ]
    },
    {
      "cell_type": "markdown",
      "source": [
        "## Import relevanter Bibliotheken"
      ],
      "metadata": {
        "id": "emwXoMpEBpjs"
      }
    },
    {
      "cell_type": "code",
      "execution_count": null,
      "metadata": {
        "id": "s0cp0O3aAvDh"
      },
      "outputs": [],
      "source": [
        "from nicegui import ui\n",
        "from xai_sdk import Client\n",
        "from xai_sdk.chat import user, system\n",
        "import os\n"
      ]
    },
    {
      "cell_type": "markdown",
      "source": [
        "## Erstellung Client Objekts mit API Zugriff:"
      ],
      "metadata": {
        "id": "KX8Wn52HB6OP"
      }
    },
    {
      "cell_type": "code",
      "source": [
        "client = Client(api_key=os.getenv(\"XAI_API_KEY\")) #API-Key wurde als Umgebungsvariable gesetzt"
      ],
      "metadata": {
        "id": "WpHwsBv0CKeY"
      },
      "execution_count": null,
      "outputs": []
    },
    {
      "cell_type": "markdown",
      "source": [
        "Systemprompt hinzufügen, um zu bestimmen, wie das Sprachmodell die Anfrage des Users verarbeiten soll:"
      ],
      "metadata": {
        "id": "HFlll1BEC5Dj"
      }
    },
    {
      "cell_type": "code",
      "source": [
        "chat = client.chat.create(model=\"grok-3-mini\")  #Erstellung eines Chat-Objektes (global für Multi-Turn)\n",
        "chat.append(system(\"Du bist Grok, ein hilfreicher Assistent von xAI.\")) #system-Prompt eventuell später umändern für absa"
      ],
      "metadata": {
        "id": "PKc1SLNZDj1F"
      },
      "execution_count": null,
      "outputs": []
    },
    {
      "cell_type": "code",
      "source": [
        "def askGrok():\n",
        "    prompt = prompt_input.value.strip()\n",
        "    if not prompt:\n",
        "        output_label.value = 'Todo: Prompt'\n",
        "        return #Verhinderung unnötiger API Anfrage bei leerem Prompt\n",
        "\n",
        "    try:\n",
        "        # User Prompt\n",
        "        chat.append(user(prompt))\n",
        "\n",
        "        # Generierung von Response (non-streaming)\n",
        "        response = chat.sample()\n",
        "\n",
        "        # Ausgabe: response.content ist der String\n",
        "        output_text = response.content if hasattr(response, 'content') else str(response)\n",
        "\n",
        "        output_label.value = output_text\n",
        "        print(\"Ausgabe:\", output_text)\n",
        "\n",
        "        # Für Multi-Turn: Append Response zurück (z. B. in globalem Chat)\n",
        "        # chat.append(response)\n",
        "\n",
        "    except Exception as e:\n",
        "        output_label.value = f'Fehler: {str(e)}'\n",
        "        print(f'Fehler bei API-Aufruf: {str(e)}')\n",
        "\n",
        "prompt_input = ui.textarea(label='API Prompt', placeholder='Frag Grok3 mini')\n",
        "ui.button('Frage Grok', on_click=askGrok)\n",
        "output_label = ui.textarea(placeholder='Grok-Antwort erscheint hier...')\n",
        "\n",
        "ui.run(port=8081)"
      ],
      "metadata": {
        "id": "fRrI4us1DMox"
      },
      "execution_count": null,
      "outputs": []
    }
  ]
}